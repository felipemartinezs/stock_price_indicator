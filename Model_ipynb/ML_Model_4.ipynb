{
 "cells": [
  {
   "cell_type": "code",
   "execution_count": 1,
   "metadata": {},
   "outputs": [],
   "source": [
    "# Recurrent Neural Network\n",
    "\n",
    "# Part 1 - Data Preprocessing\n",
    "\n",
    "# Importing the libraries\n",
    "import numpy as np\n",
    "import matplotlib.pyplot as plt\n",
    "import pandas as pd"
   ]
  },
  {
   "cell_type": "code",
   "execution_count": 3,
   "metadata": {},
   "outputs": [
    {
     "data": {
      "text/plain": [
       "(1239, 7)"
      ]
     },
     "execution_count": 3,
     "metadata": {},
     "output_type": "execute_result"
    }
   ],
   "source": [
    "# Importing the training set\n",
    "dataset_train = pd.read_csv('data/SP500/symbols/GOOG.csv')\n",
    "training_set = dataset_train.iloc[:,5:6].values\n",
    "dataset_train.shape"
   ]
  },
  {
   "cell_type": "code",
   "execution_count": 4,
   "metadata": {},
   "outputs": [],
   "source": [
    "# Feature Scaling\n",
    "from sklearn.preprocessing import MinMaxScaler\n",
    "sc = MinMaxScaler(feature_range = (0, 1))\n",
    "training_set_scaled = sc.fit_transform(training_set)\n",
    "\n",
    "# Creating a data structure with 20 timesteps and t+1 output\n",
    "X_train = []\n",
    "y_train = []\n",
    "for i in range(20, 1239):\n",
    "    X_train.append(training_set_scaled[i-20:i, 0])\n",
    "    y_train.append(training_set_scaled[i, 0])\n",
    "X_train, y_train = np.array(X_train), np.array(y_train)"
   ]
  },
  {
   "cell_type": "code",
   "execution_count": 5,
   "metadata": {},
   "outputs": [],
   "source": [
    "# Reshaping\n",
    "X_train = np.reshape(X_train, (X_train.shape[0], X_train.shape[1], 1))"
   ]
  },
  {
   "cell_type": "code",
   "execution_count": 6,
   "metadata": {},
   "outputs": [
    {
     "name": "stderr",
     "output_type": "stream",
     "text": [
      "Using TensorFlow backend.\n"
     ]
    }
   ],
   "source": [
    "# Part 2 - Building the RNN\n",
    "\n",
    "# Importing the Keras libraries and packages\n",
    "from keras.models import Sequential\n",
    "from keras.layers import Dense\n",
    "from keras.layers import LSTM\n",
    "\n",
    "# Initialising the RNN\n",
    "regressor = Sequential()\n",
    "\n",
    "# Adding the input layer and the LSTM layer\n",
    "regressor.add(LSTM(units = 3, return_sequences = True, input_shape = (None, 1)))\n",
    "\n",
    "# Adding a second LSTM layer\n",
    "regressor.add(LSTM(units = 3, return_sequences = True))\n",
    "\n",
    "# Adding a third LSTM layer\n",
    "regressor.add(LSTM(units = 3, return_sequences = True))\n",
    "\n",
    "# Adding a fourth LSTM layer\n",
    "regressor.add(LSTM(units = 3))\n",
    "\n",
    "# Adding the output layer\n",
    "regressor.add(Dense(units = 1))"
   ]
  },
  {
   "cell_type": "code",
   "execution_count": 7,
   "metadata": {},
   "outputs": [],
   "source": [
    "# Compiling the RNN\n",
    "regressor.compile(optimizer = 'rmsprop', loss = 'mean_squared_error')"
   ]
  },
  {
   "cell_type": "code",
   "execution_count": 8,
   "metadata": {},
   "outputs": [
    {
     "name": "stdout",
     "output_type": "stream",
     "text": [
      "Epoch 1/100\n",
      "1219/1219 [==============================] - 2s - loss: 0.1470     \n",
      "Epoch 2/100\n",
      "1219/1219 [==============================] - 2s - loss: 0.0532     \n",
      "Epoch 3/100\n",
      "1219/1219 [==============================] - 2s - loss: 0.0183     \n",
      "Epoch 4/100\n",
      "1219/1219 [==============================] - 2s - loss: 0.0043     \n",
      "Epoch 5/100\n",
      "1219/1219 [==============================] - 2s - loss: 0.0029     \n",
      "Epoch 6/100\n",
      "1219/1219 [==============================] - 2s - loss: 0.0025     \n",
      "Epoch 7/100\n",
      "1219/1219 [==============================] - 2s - loss: 0.0024     \n",
      "Epoch 8/100\n",
      "1219/1219 [==============================] - 2s - loss: 0.0022     \n",
      "Epoch 9/100\n",
      "1219/1219 [==============================] - 2s - loss: 0.0021     \n",
      "Epoch 10/100\n",
      "1219/1219 [==============================] - 2s - loss: 0.0020     \n",
      "Epoch 11/100\n",
      "1219/1219 [==============================] - 2s - loss: 0.0020     \n",
      "Epoch 12/100\n",
      "1219/1219 [==============================] - 2s - loss: 0.0019     \n",
      "Epoch 13/100\n",
      "1219/1219 [==============================] - 2s - loss: 0.0018     \n",
      "Epoch 14/100\n",
      "1219/1219 [==============================] - 2s - loss: 0.0017     \n",
      "Epoch 15/100\n",
      "1219/1219 [==============================] - 2s - loss: 0.0018     \n",
      "Epoch 16/100\n",
      "1219/1219 [==============================] - 2s - loss: 0.0018     \n",
      "Epoch 17/100\n",
      "1219/1219 [==============================] - 2s - loss: 0.0017     \n",
      "Epoch 18/100\n",
      "1219/1219 [==============================] - 2s - loss: 0.0017     \n",
      "Epoch 19/100\n",
      "1219/1219 [==============================] - 2s - loss: 0.0016     \n",
      "Epoch 20/100\n",
      "1219/1219 [==============================] - 2s - loss: 0.0017     \n",
      "Epoch 21/100\n",
      "1219/1219 [==============================] - 2s - loss: 0.0016     \n",
      "Epoch 22/100\n",
      "1219/1219 [==============================] - 2s - loss: 0.0017     \n",
      "Epoch 23/100\n",
      "1219/1219 [==============================] - 2s - loss: 0.0016     \n",
      "Epoch 24/100\n",
      "1219/1219 [==============================] - 2s - loss: 0.0016     \n",
      "Epoch 25/100\n",
      "1219/1219 [==============================] - 2s - loss: 0.0016     \n",
      "Epoch 26/100\n",
      "1219/1219 [==============================] - 2s - loss: 0.0016     \n",
      "Epoch 27/100\n",
      "1219/1219 [==============================] - 2s - loss: 0.0016     \n",
      "Epoch 28/100\n",
      "1219/1219 [==============================] - 2s - loss: 0.0016     \n",
      "Epoch 29/100\n",
      "1219/1219 [==============================] - 2s - loss: 0.0015     \n",
      "Epoch 30/100\n",
      "1219/1219 [==============================] - 2s - loss: 0.0016     \n",
      "Epoch 31/100\n",
      "1219/1219 [==============================] - 2s - loss: 0.0015     - ETA: 0s - loss: 0.00\n",
      "Epoch 32/100\n",
      "1219/1219 [==============================] - 2s - loss: 0.0016     \n",
      "Epoch 33/100\n",
      "1219/1219 [==============================] - 2s - loss: 0.0015     \n",
      "Epoch 34/100\n",
      "1219/1219 [==============================] - 2s - loss: 0.0016     \n",
      "Epoch 35/100\n",
      "1219/1219 [==============================] - 2s - loss: 0.0015     \n",
      "Epoch 36/100\n",
      "1219/1219 [==============================] - 2s - loss: 0.0015     \n",
      "Epoch 37/100\n",
      "1219/1219 [==============================] - 2s - loss: 0.0015     \n",
      "Epoch 38/100\n",
      "1219/1219 [==============================] - 2s - loss: 0.0015     \n",
      "Epoch 39/100\n",
      "1219/1219 [==============================] - 2s - loss: 0.0015     \n",
      "Epoch 40/100\n",
      "1219/1219 [==============================] - 2s - loss: 0.0015     \n",
      "Epoch 41/100\n",
      "1219/1219 [==============================] - 2s - loss: 0.0015     \n",
      "Epoch 42/100\n",
      "1219/1219 [==============================] - 2s - loss: 0.0014     \n",
      "Epoch 43/100\n",
      "1219/1219 [==============================] - 2s - loss: 0.0015     \n",
      "Epoch 44/100\n",
      "1219/1219 [==============================] - 2s - loss: 0.0014     \n",
      "Epoch 45/100\n",
      "1219/1219 [==============================] - 2s - loss: 0.0014     \n",
      "Epoch 46/100\n",
      "1219/1219 [==============================] - 2s - loss: 0.0014     \n",
      "Epoch 47/100\n",
      "1219/1219 [==============================] - 2s - loss: 0.0014     \n",
      "Epoch 48/100\n",
      "1219/1219 [==============================] - 2s - loss: 0.0015     \n",
      "Epoch 49/100\n",
      "1219/1219 [==============================] - 2s - loss: 0.0014     \n",
      "Epoch 50/100\n",
      "1219/1219 [==============================] - 2s - loss: 0.0014     - ETA: 0\n",
      "Epoch 51/100\n",
      "1219/1219 [==============================] - 2s - loss: 0.0014     \n",
      "Epoch 52/100\n",
      "1219/1219 [==============================] - 2s - loss: 0.0013     \n",
      "Epoch 53/100\n",
      "1219/1219 [==============================] - 2s - loss: 0.0013     \n",
      "Epoch 54/100\n",
      "1219/1219 [==============================] - 2s - loss: 0.0014     \n",
      "Epoch 55/100\n",
      "1219/1219 [==============================] - 2s - loss: 0.0014     \n",
      "Epoch 56/100\n",
      "1219/1219 [==============================] - 2s - loss: 0.0014     \n",
      "Epoch 57/100\n",
      "1219/1219 [==============================] - 2s - loss: 0.0014     \n",
      "Epoch 58/100\n",
      "1219/1219 [==============================] - 2s - loss: 0.0013     \n",
      "Epoch 59/100\n",
      "1219/1219 [==============================] - 2s - loss: 0.0013     \n",
      "Epoch 60/100\n",
      "1219/1219 [==============================] - 2s - loss: 0.0013     \n",
      "Epoch 61/100\n",
      "1219/1219 [==============================] - 2s - loss: 0.0014     - ETA: 0s \n",
      "Epoch 62/100\n",
      "1219/1219 [==============================] - 2s - loss: 0.0013     \n",
      "Epoch 63/100\n",
      "1219/1219 [==============================] - 2s - loss: 0.0014     \n",
      "Epoch 64/100\n",
      "1219/1219 [==============================] - 2s - loss: 0.0013     - ETA: 0s - lo\n",
      "Epoch 65/100\n",
      "1219/1219 [==============================] - 2s - loss: 0.0013     \n",
      "Epoch 66/100\n",
      "1219/1219 [==============================] - 2s - loss: 0.0013     \n",
      "Epoch 67/100\n",
      "1219/1219 [==============================] - 2s - loss: 0.0013     \n",
      "Epoch 68/100\n",
      "1219/1219 [==============================] - 2s - loss: 0.0013     \n",
      "Epoch 69/100\n",
      "1219/1219 [==============================] - 2s - loss: 0.0013     \n",
      "Epoch 70/100\n",
      "1219/1219 [==============================] - 2s - loss: 0.0013     \n",
      "Epoch 71/100\n",
      "1219/1219 [==============================] - 2s - loss: 0.0013     \n",
      "Epoch 72/100\n",
      "1219/1219 [==============================] - 2s - loss: 0.0013     \n",
      "Epoch 73/100\n",
      "1219/1219 [==============================] - 2s - loss: 0.0013     \n",
      "Epoch 74/100\n",
      "1219/1219 [==============================] - 2s - loss: 0.0013     \n",
      "Epoch 75/100\n",
      "1219/1219 [==============================] - 2s - loss: 0.0013     \n",
      "Epoch 76/100\n",
      "1219/1219 [==============================] - 2s - loss: 0.0013     \n",
      "Epoch 77/100\n",
      "1219/1219 [==============================] - 2s - loss: 0.0012     \n",
      "Epoch 78/100\n",
      "1219/1219 [==============================] - 2s - loss: 0.0013     \n",
      "Epoch 79/100\n",
      "1219/1219 [==============================] - 2s - loss: 0.0013     \n",
      "Epoch 80/100\n",
      "1219/1219 [==============================] - 2s - loss: 0.0013     \n",
      "Epoch 81/100\n",
      "1219/1219 [==============================] - 2s - loss: 0.0012     \n",
      "Epoch 82/100\n",
      "1219/1219 [==============================] - 2s - loss: 0.0012     \n",
      "Epoch 83/100\n",
      "1219/1219 [==============================] - 2s - loss: 0.0013     \n",
      "Epoch 84/100\n",
      "1219/1219 [==============================] - 2s - loss: 0.0012     \n",
      "Epoch 85/100\n",
      "1219/1219 [==============================] - 2s - loss: 0.0012     \n",
      "Epoch 86/100\n",
      "1219/1219 [==============================] - 2s - loss: 0.0013     \n",
      "Epoch 87/100\n",
      "1219/1219 [==============================] - 2s - loss: 0.0012     \n",
      "Epoch 88/100\n",
      "1219/1219 [==============================] - 2s - loss: 0.0012     \n",
      "Epoch 89/100\n",
      "1219/1219 [==============================] - 2s - loss: 0.0013     \n",
      "Epoch 90/100\n",
      "1219/1219 [==============================] - 2s - loss: 0.0013     \n",
      "Epoch 91/100\n",
      "1219/1219 [==============================] - 2s - loss: 0.0013     \n",
      "Epoch 92/100\n",
      "1219/1219 [==============================] - 2s - loss: 0.0012     \n",
      "Epoch 93/100\n",
      "1219/1219 [==============================] - 2s - loss: 0.0012     \n",
      "Epoch 94/100\n",
      "1219/1219 [==============================] - 2s - loss: 0.0012     \n",
      "Epoch 95/100\n",
      "1219/1219 [==============================] - 2s - loss: 0.0012     \n",
      "Epoch 96/100\n",
      "1219/1219 [==============================] - 2s - loss: 0.0012     \n",
      "Epoch 97/100\n",
      "1219/1219 [==============================] - 2s - loss: 0.0012     \n",
      "Epoch 98/100\n",
      "1219/1219 [==============================] - 2s - loss: 0.0012     \n",
      "Epoch 99/100\n",
      "1219/1219 [==============================] - 2s - loss: 0.0012     \n",
      "Epoch 100/100\n",
      "1219/1219 [==============================] - 2s - loss: 0.0012     \n"
     ]
    },
    {
     "data": {
      "text/plain": [
       "<keras.callbacks.History at 0x7f8bd2449320>"
      ]
     },
     "execution_count": 8,
     "metadata": {},
     "output_type": "execute_result"
    }
   ],
   "source": [
    "# Fitting the RNN to the Training set\n",
    "regressor.fit(X_train, y_train, epochs = 100, batch_size = 32)"
   ]
  },
  {
   "cell_type": "code",
   "execution_count": 9,
   "metadata": {},
   "outputs": [],
   "source": [
    "# Part 3 - Making the predictions and visualising the results\n",
    "\n",
    "# Getting the real stock price \n",
    "dataset_test = pd.read_csv('data/SP500/symbols/GOOG_test.csv')\n",
    "test_set = dataset_test.iloc[:,5:6].values\n",
    "real_stock_price = np.concatenate((training_set[0:1239], test_set), axis = 0)\n",
    "\n",
    "# Getting the predicted stock price of 2018\n",
    "scaled_real_stock_price = sc.fit_transform(real_stock_price)\n",
    "inputs = []\n",
    "for i in range(1239, 1258):\n",
    "    inputs.append(scaled_real_stock_price[i-20:i, 0])\n",
    "inputs = np.array(inputs)\n",
    "inputs = np.reshape(inputs, (inputs.shape[0], inputs.shape[1], 1))\n",
    "predicted_stock_price = regressor.predict(inputs)\n",
    "predicted_stock_price = sc.inverse_transform(predicted_stock_price)"
   ]
  },
  {
   "cell_type": "code",
   "execution_count": 10,
   "metadata": {},
   "outputs": [
    {
     "data": {
      "image/png": "[encoded data removed]",
      "text/plain": [
       "<matplotlib.figure.Figure at 0x7f8c1669eba8>"
      ]
     },
     "metadata": {},
     "output_type": "display_data"
    }
   ],
   "source": [
    "# Visualising the results\n",
    "plt.plot(real_stock_price[1239:], color = 'red', label = 'Real Google Stock Price')\n",
    "plt.plot(predicted_stock_price, color = 'blue', label = 'Predicted Google Stock Price')\n",
    "plt.title('Google Stock Price Prediction')\n",
    "plt.xlabel('Time')\n",
    "plt.ylabel('Google Stock Price')\n",
    "plt.legend()\n",
    "plt.show()"
   ]
  },
  {
   "cell_type": "code",
   "execution_count": 11,
   "metadata": {},
   "outputs": [],
   "source": [
    "# Part 4 - Evaluating the RNN\n",
    "\n",
    "import math\n",
    "from sklearn.metrics import mean_squared_error\n",
    "from sklearn.metrics import mean_absolute_error"
   ]
  },
  {
   "cell_type": "code",
   "execution_count": 12,
   "metadata": {},
   "outputs": [
    {
     "name": "stdout",
     "output_type": "stream",
     "text": [
      "Score\n",
      "MAE:  18.0345\n",
      "RMSE: 23.7743  \n"
     ]
    }
   ],
   "source": [
    "#  Evaluating the RNN\n",
    "print (\"Score\")\n",
    "print('MAE:  %.4F' % (mean_absolute_error(test_set, predicted_stock_price)))\n",
    "print('RMSE: %.4f  ' % (math.sqrt(mean_squared_error(test_set, predicted_stock_price))))"
   ]
  },
  {
   "cell_type": "code",
   "execution_count": 13,
   "metadata": {},
   "outputs": [
    {
     "name": "stdout",
     "output_type": "stream",
     "text": [
      "MSE:  565.2166\n"
     ]
    }
   ],
   "source": [
    "print('MSE:  %.4f' % (mean_squared_error(test_set, predicted_stock_price)))"
   ]
  },
  {
   "cell_type": "code",
   "execution_count": null,
   "metadata": {},
   "outputs": [],
   "source": []
  }
 ],
 "metadata": {
  "kernelspec": {
   "display_name": "stock-price-indicator",
   "language": "python",
   "name": "stock-price-indicator"
  },
  "language_info": {
   "codemirror_mode": {
    "name": "ipython",
    "version": 3
   },
   "file_extension": ".py",
   "mimetype": "text/x-python",
   "name": "python",
   "nbconvert_exporter": "python",
   "pygments_lexer": "ipython3",
   "version": "3.6.1"
  }
 },
 "nbformat": 4,
 "nbformat_minor": 2
}
