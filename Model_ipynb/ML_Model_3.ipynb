{
 "cells": [
  {
   "cell_type": "code",
   "execution_count": 2,
   "metadata": {},
   "outputs": [],
   "source": [
    "# Recurrent Neural Network\n",
    "\n",
    "# Part 1 - Data Preprocessing\n",
    "\n",
    "# Importing the libraries\n",
    "import numpy as np\n",
    "import matplotlib.pyplot as plt\n",
    "import pandas as pd"
   ]
  },
  {
   "cell_type": "code",
   "execution_count": 3,
   "metadata": {},
   "outputs": [
    {
     "data": {
      "text/plain": [
       "(1239, 7)"
      ]
     },
     "execution_count": 3,
     "metadata": {},
     "output_type": "execute_result"
    }
   ],
   "source": [
    "# Importing the training set\n",
    "dataset_train = pd.read_csv('data/SP500/symbols/GOOG.csv')\n",
    "training_set = dataset_train.iloc[:,5:6].values\n",
    "dataset_train.shape"
   ]
  },
  {
   "cell_type": "code",
   "execution_count": 4,
   "metadata": {},
   "outputs": [],
   "source": [
    "# Feature Scaling\n",
    "from sklearn.preprocessing import MinMaxScaler\n",
    "sc = MinMaxScaler(feature_range = (0, 1))\n",
    "training_set_scaled = sc.fit_transform(training_set)\n",
    "\n",
    "# Creating a data structure with 60 timesteps and t+1 output\n",
    "X_train = []\n",
    "y_train = []\n",
    "for i in range(60, 1239):\n",
    "    X_train.append(training_set_scaled[i-60:i, 0])\n",
    "    y_train.append(training_set_scaled[i, 0])\n",
    "X_train, y_train = np.array(X_train), np.array(y_train)\n",
    "\n",
    "# Reshaping\n",
    "X_train = np.reshape(X_train, (X_train.shape[0], X_train.shape[1], 1))"
   ]
  },
  {
   "cell_type": "code",
   "execution_count": 6,
   "metadata": {},
   "outputs": [
    {
     "name": "stdout",
     "output_type": "stream",
     "text": [
      "Epoch 1/100\n",
      "1179/1179 [==============================] - 2s - loss: 0.4331     \n",
      "Epoch 2/100\n",
      "1179/1179 [==============================] - 2s - loss: 0.2288     \n",
      "Epoch 3/100\n",
      "1179/1179 [==============================] - 2s - loss: 0.1169     \n",
      "Epoch 4/100\n",
      "1179/1179 [==============================] - 1s - loss: 0.0582     \n",
      "Epoch 5/100\n",
      "1179/1179 [==============================] - 1s - loss: 0.0298     \n",
      "Epoch 6/100\n",
      "1179/1179 [==============================] - 1s - loss: 0.0093     \n",
      "Epoch 7/100\n",
      "1179/1179 [==============================] - 2s - loss: 0.0027     \n",
      "Epoch 8/100\n",
      "1179/1179 [==============================] - 2s - loss: 0.0018     \n",
      "Epoch 9/100\n",
      "1179/1179 [==============================] - 1s - loss: 0.0015     \n",
      "Epoch 10/100\n",
      "1179/1179 [==============================] - 2s - loss: 0.0012     \n",
      "Epoch 11/100\n",
      "1179/1179 [==============================] - 1s - loss: 0.0011     \n",
      "Epoch 12/100\n",
      "1179/1179 [==============================] - 2s - loss: 0.0010     \n",
      "Epoch 13/100\n",
      "1179/1179 [==============================] - 2s - loss: 9.5920e-04     - ETA: 0s - loss: 9.5493e\n",
      "Epoch 14/100\n",
      "1179/1179 [==============================] - 2s - loss: 9.1193e-04     \n",
      "Epoch 15/100\n",
      "1179/1179 [==============================] - 2s - loss: 8.5476e-04     \n",
      "Epoch 16/100\n",
      "1179/1179 [==============================] - 2s - loss: 8.3279e-04     \n",
      "Epoch 17/100\n",
      "1179/1179 [==============================] - 2s - loss: 7.8067e-04     \n",
      "Epoch 18/100\n",
      "1179/1179 [==============================] - 2s - loss: 7.6796e-04     \n",
      "Epoch 19/100\n",
      "1179/1179 [==============================] - 1s - loss: 7.4288e-04     - ETA: 0s - loss: 6.8962e-0 - ETA: 0s - loss: 6.76\n",
      "Epoch 20/100\n",
      "1179/1179 [==============================] - 1s - loss: 7.2432e-04     \n",
      "Epoch 21/100\n",
      "1179/1179 [==============================] - 2s - loss: 7.1296e-04     \n",
      "Epoch 22/100\n",
      "1179/1179 [==============================] - 2s - loss: 6.9753e-04     \n",
      "Epoch 23/100\n",
      "1179/1179 [==============================] - 2s - loss: 6.8231e-04     \n",
      "Epoch 24/100\n",
      "1179/1179 [==============================] - 2s - loss: 6.7646e-04     \n",
      "Epoch 25/100\n",
      "1179/1179 [==============================] - 1s - loss: 6.4534e-04     \n",
      "Epoch 26/100\n",
      "1179/1179 [==============================] - 1s - loss: 6.3892e-04     \n",
      "Epoch 27/100\n",
      "1179/1179 [==============================] - 1s - loss: 6.2121e-04     \n",
      "Epoch 28/100\n",
      "1179/1179 [==============================] - 1s - loss: 6.1675e-04     \n",
      "Epoch 29/100\n",
      "1179/1179 [==============================] - 1s - loss: 6.0878e-04     \n",
      "Epoch 30/100\n",
      "1179/1179 [==============================] - 1s - loss: 5.9619e-04     \n",
      "Epoch 31/100\n",
      "1179/1179 [==============================] - 1s - loss: 5.7995e-04     \n",
      "Epoch 32/100\n",
      "1179/1179 [==============================] - 1s - loss: 5.9298e-04     \n",
      "Epoch 33/100\n",
      "1179/1179 [==============================] - 1s - loss: 5.7106e-04     \n",
      "Epoch 34/100\n",
      "1179/1179 [==============================] - 1s - loss: 5.7236e-04     \n",
      "Epoch 35/100\n",
      "1179/1179 [==============================] - 1s - loss: 5.4758e-04     \n",
      "Epoch 36/100\n",
      "1179/1179 [==============================] - 1s - loss: 5.6475e-04     \n",
      "Epoch 37/100\n",
      "1179/1179 [==============================] - 1s - loss: 5.3191e-04     \n",
      "Epoch 38/100\n",
      "1179/1179 [==============================] - 1s - loss: 5.3436e-04     \n",
      "Epoch 39/100\n",
      "1179/1179 [==============================] - 1s - loss: 5.5166e-04     \n",
      "Epoch 40/100\n",
      "1179/1179 [==============================] - 1s - loss: 5.2797e-04     \n",
      "Epoch 41/100\n",
      "1179/1179 [==============================] - 1s - loss: 5.1309e-04     \n",
      "Epoch 42/100\n",
      "1179/1179 [==============================] - 1s - loss: 5.1618e-04     \n",
      "Epoch 43/100\n",
      "1179/1179 [==============================] - 1s - loss: 5.0983e-04     \n",
      "Epoch 44/100\n",
      "1179/1179 [==============================] - 1s - loss: 5.0052e-04     \n",
      "Epoch 45/100\n",
      "1179/1179 [==============================] - 1s - loss: 4.9666e-04     \n",
      "Epoch 46/100\n",
      "1179/1179 [==============================] - 2s - loss: 4.9487e-04     \n",
      "Epoch 47/100\n",
      "1179/1179 [==============================] - 1s - loss: 4.9366e-04     \n",
      "Epoch 48/100\n",
      "1179/1179 [==============================] - 1s - loss: 4.8903e-04     \n",
      "Epoch 49/100\n",
      "1179/1179 [==============================] - 1s - loss: 4.7698e-04     \n",
      "Epoch 50/100\n",
      "1179/1179 [==============================] - 1s - loss: 4.8153e-04     \n",
      "Epoch 51/100\n",
      "1179/1179 [==============================] - 1s - loss: 4.6764e-04     \n",
      "Epoch 52/100\n",
      "1179/1179 [==============================] - 1s - loss: 4.7806e-04     \n",
      "Epoch 53/100\n",
      "1179/1179 [==============================] - 1s - loss: 4.6644e-04     \n",
      "Epoch 54/100\n",
      "1179/1179 [==============================] - 1s - loss: 4.7207e-04     \n",
      "Epoch 55/100\n",
      "1179/1179 [==============================] - 1s - loss: 4.5286e-04     \n",
      "Epoch 56/100\n",
      "1179/1179 [==============================] - 1s - loss: 4.6263e-04     \n",
      "Epoch 57/100\n",
      "1179/1179 [==============================] - 1s - loss: 4.5156e-04     \n",
      "Epoch 58/100\n",
      "1179/1179 [==============================] - 1s - loss: 4.4761e-04     \n",
      "Epoch 59/100\n",
      "1179/1179 [==============================] - 1s - loss: 4.5143e-04     \n",
      "Epoch 60/100\n",
      "1179/1179 [==============================] - 1s - loss: 4.4702e-04     \n",
      "Epoch 61/100\n",
      "1179/1179 [==============================] - 1s - loss: 4.4467e-04     \n",
      "Epoch 62/100\n",
      "1179/1179 [==============================] - 2s - loss: 4.3187e-04     \n",
      "Epoch 63/100\n",
      "1179/1179 [==============================] - 1s - loss: 4.2406e-04     \n",
      "Epoch 64/100\n",
      "1179/1179 [==============================] - 2s - loss: 4.3890e-04     \n",
      "Epoch 65/100\n",
      "1179/1179 [==============================] - 1s - loss: 4.2813e-04     \n",
      "Epoch 66/100\n",
      "1179/1179 [==============================] - 1s - loss: 4.1995e-04     \n",
      "Epoch 67/100\n",
      "1179/1179 [==============================] - 1s - loss: 4.1411e-04     \n",
      "Epoch 68/100\n",
      "1179/1179 [==============================] - 1s - loss: 4.1507e-04     \n",
      "Epoch 69/100\n",
      "1179/1179 [==============================] - 1s - loss: 4.0261e-04     \n",
      "Epoch 70/100\n",
      "1179/1179 [==============================] - 2s - loss: 4.0139e-04     \n",
      "Epoch 71/100\n",
      "1179/1179 [==============================] - 1s - loss: 4.1925e-04     - ETA: 1s \n",
      "Epoch 72/100\n",
      "1179/1179 [==============================] - 1s - loss: 3.9364e-04     \n",
      "Epoch 73/100\n",
      "1179/1179 [==============================] - 1s - loss: 4.0379e-04     \n",
      "Epoch 74/100\n",
      "1179/1179 [==============================] - 1s - loss: 4.0182e-04     \n",
      "Epoch 75/100\n",
      "1179/1179 [==============================] - 1s - loss: 3.8799e-04     \n",
      "Epoch 76/100\n",
      "1179/1179 [==============================] - 1s - loss: 3.8398e-04     \n",
      "Epoch 77/100\n",
      "1179/1179 [==============================] - 1s - loss: 3.8846e-04     \n",
      "Epoch 78/100\n",
      "1179/1179 [==============================] - 1s - loss: 3.7244e-04     \n",
      "Epoch 79/100\n",
      "1179/1179 [==============================] - 1s - loss: 3.9516e-04     \n",
      "Epoch 80/100\n",
      "1179/1179 [==============================] - 1s - loss: 3.5878e-04     \n",
      "Epoch 81/100\n",
      "1179/1179 [==============================] - 1s - loss: 3.7445e-04     \n",
      "Epoch 82/100\n",
      "1179/1179 [==============================] - 1s - loss: 3.6956e-04     \n",
      "Epoch 83/100\n",
      "1179/1179 [==============================] - 2s - loss: 3.6135e-04     \n",
      "Epoch 84/100\n",
      "1179/1179 [==============================] - 2s - loss: 3.5699e-04     \n",
      "Epoch 85/100\n",
      "1179/1179 [==============================] - 2s - loss: 3.6792e-04     \n",
      "Epoch 86/100\n",
      "1179/1179 [==============================] - 2s - loss: 3.5957e-04     \n",
      "Epoch 87/100\n",
      "1179/1179 [==============================] - 1s - loss: 3.4964e-04     \n",
      "Epoch 88/100\n",
      "1179/1179 [==============================] - 1s - loss: 3.5594e-04     \n",
      "Epoch 89/100\n",
      "1179/1179 [==============================] - 1s - loss: 3.4649e-04     \n",
      "Epoch 90/100\n",
      "1179/1179 [==============================] - 1s - loss: 3.5395e-04     \n",
      "Epoch 91/100\n",
      "1179/1179 [==============================] - 1s - loss: 3.3888e-04     \n",
      "Epoch 92/100\n",
      "1179/1179 [==============================] - 1s - loss: 3.3828e-04     - ETA: 0s - loss: 3.43\n",
      "Epoch 93/100\n",
      "1179/1179 [==============================] - 2s - loss: 3.3244e-04     \n",
      "Epoch 94/100\n",
      "1179/1179 [==============================] - 1s - loss: 3.3608e-04     \n",
      "Epoch 95/100\n",
      "1179/1179 [==============================] - 2s - loss: 3.3160e-04     \n",
      "Epoch 96/100\n",
      "1179/1179 [==============================] - 1s - loss: 3.2696e-04     \n",
      "Epoch 97/100\n",
      "1179/1179 [==============================] - 1s - loss: 3.1959e-04     \n",
      "Epoch 98/100\n",
      "1179/1179 [==============================] - 1s - loss: 3.3006e-04     \n",
      "Epoch 99/100\n",
      "1179/1179 [==============================] - 1s - loss: 3.2059e-04     \n",
      "Epoch 100/100\n",
      "1179/1179 [==============================] - 1s - loss: 3.1366e-04     \n"
     ]
    },
    {
     "data": {
      "text/plain": [
       "<keras.callbacks.History at 0x7fa3a55671d0>"
      ]
     },
     "execution_count": 6,
     "metadata": {},
     "output_type": "execute_result"
    }
   ],
   "source": [
    "# Part 2 - Building the RNN\n",
    "\n",
    "# Importing the Keras libraries and packages\n",
    "from keras.models import Sequential\n",
    "from keras.layers import Dense\n",
    "from keras.layers import LSTM\n",
    "\n",
    "# Initialising the RNN\n",
    "regressor = Sequential()\n",
    "\n",
    "# Adding the input layer and the LSTM layer\n",
    "regressor.add(LSTM(units = 3, input_shape = (None, 1)))\n",
    "\n",
    "# Adding the output layer\n",
    "regressor.add(Dense(units = 1))\n",
    "\n",
    "# Compiling the RNN\n",
    "regressor.compile(optimizer = 'rmsprop', loss = 'mean_squared_error')\n",
    "\n",
    "# Fitting the RNN to the Training set\n",
    "regressor.fit(X_train, y_train, epochs = 100, batch_size = 32)\n",
    "\n"
   ]
  },
  {
   "cell_type": "code",
   "execution_count": 8,
   "metadata": {},
   "outputs": [
    {
     "data": {
      "text/plain": [
       "array([[1197.      ],\n",
       "       [1186.47998 ],\n",
       "       [1171.439941],\n",
       "       [1164.829956],\n",
       "       [1164.640015],\n",
       "       [1177.359985],\n",
       "       [1162.819946],\n",
       "       [1175.329956],\n",
       "       [1172.530029],\n",
       "       [1156.050049],\n",
       "       [1161.219971],\n",
       "       [1171.089966],\n",
       "       [1186.869995],\n",
       "       [1166.089966],\n",
       "       [1173.369995],\n",
       "       [1184.650024],\n",
       "       [1180.48999 ],\n",
       "       [1194.640015],\n",
       "       [1193.469971]])"
      ]
     },
     "execution_count": 8,
     "metadata": {},
     "output_type": "execute_result"
    }
   ],
   "source": [
    "# Part 3 - Making the predictions and visualising the results\n",
    "\n",
    "# Getting the real stock price\n",
    "dataset_test = pd.read_csv('data/SP500/symbols/GOOG_test.csv')\n",
    "test_set = dataset_test.iloc[:,5:6].values\n",
    "real_stock_price = np.concatenate((training_set[0:1239], test_set), axis = 0)\n",
    "test_set"
   ]
  },
  {
   "cell_type": "code",
   "execution_count": 10,
   "metadata": {},
   "outputs": [],
   "source": [
    "# Getting the predicted stock price of 2017\n",
    "scaled_real_stock_price = sc.fit_transform(real_stock_price)\n",
    "inputs = []\n",
    "for i in range(1239, 1258):\n",
    "    inputs.append(scaled_real_stock_price[i-60:i, 0])\n",
    "inputs = np.array(inputs)\n",
    "inputs = np.reshape(inputs, (inputs.shape[0], inputs.shape[1], 1))\n",
    "predicted_stock_price = regressor.predict(inputs)\n",
    "predicted_stock_price = sc.inverse_transform(predicted_stock_price)"
   ]
  },
  {
   "cell_type": "code",
   "execution_count": 12,
   "metadata": {},
   "outputs": [
    {
     "data": {
      "image/png": "[encoded data removed]",
      "text/plain": [
       "<matplotlib.figure.Figure at 0x7fa3a5478a20>"
      ]
     },
     "metadata": {},
     "output_type": "display_data"
    }
   ],
   "source": [
    "# Visualising the results\n",
    "plt.plot(real_stock_price[1239:], color = 'red', label = 'Real Google Stock Price')\n",
    "plt.plot(predicted_stock_price, color = 'blue', label = 'Predicted Google Stock Price')\n",
    "plt.title('Google Stock Price Prediction')\n",
    "plt.xlabel('Time')\n",
    "plt.ylabel('Google Stock Price')\n",
    "plt.legend()\n",
    "plt.show()"
   ]
  },
  {
   "cell_type": "code",
   "execution_count": 13,
   "metadata": {},
   "outputs": [],
   "source": [
    "# Part 4 - Evaluating the RNN\n",
    "\n",
    "import math\n",
    "from sklearn.metrics import mean_squared_error\n",
    "from sklearn.metrics import mean_absolute_error"
   ]
  },
  {
   "cell_type": "code",
   "execution_count": 14,
   "metadata": {},
   "outputs": [
    {
     "name": "stdout",
     "output_type": "stream",
     "text": [
      "Score\n",
      "MAE:  13.4607\n",
      "RMSE: 17.5804  \n"
     ]
    }
   ],
   "source": [
    "#  Evaluating the RNN\n",
    "print (\"Score\")\n",
    "print('MAE:  %.4F' % (mean_absolute_error(test_set, predicted_stock_price)))\n",
    "print('RMSE: %.4f  ' % (math.sqrt(mean_squared_error(test_set, predicted_stock_price))))"
   ]
  },
  {
   "cell_type": "code",
   "execution_count": 15,
   "metadata": {},
   "outputs": [
    {
     "name": "stdout",
     "output_type": "stream",
     "text": [
      "MSE:  309.0692\n"
     ]
    }
   ],
   "source": [
    "print('MSE:  %.4f' % (mean_squared_error(test_set, predicted_stock_price)))"
   ]
  },
  {
   "cell_type": "code",
   "execution_count": null,
   "metadata": {},
   "outputs": [],
   "source": []
  }
 ],
 "metadata": {
  "kernelspec": {
   "display_name": "stock-price-indicator",
   "language": "python",
   "name": "stock-price-indicator"
  },
  "language_info": {
   "codemirror_mode": {
    "name": "ipython",
    "version": 3
   },
   "file_extension": ".py",
   "mimetype": "text/x-python",
   "name": "python",
   "nbconvert_exporter": "python",
   "pygments_lexer": "ipython3",
   "version": "3.6.1"
  }
 },
 "nbformat": 4,
 "nbformat_minor": 2
}
