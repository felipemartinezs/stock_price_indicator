{
 "cells": [
  {
   "cell_type": "code",
   "execution_count": 47,
   "metadata": {},
   "outputs": [
    {
     "name": "stdout",
     "output_type": "stream",
     "text": [
      "[*********************100%***********************]  1 of 1 downloaded\n",
      "MMM\n",
      "[*********************100%***********************]  1 of 1 downloaded\n",
      "AAPL\n",
      "[*********************100%***********************]  1 of 1 downloaded\n",
      "NVDA\n",
      "[*********************100%***********************]  1 of 1 downloaded\n",
      "BKNG\n",
      "[*********************100%***********************]  1 of 1 downloaded\n",
      "NFLX\n",
      "[*********************100%***********************]  1 of 1 downloaded\n",
      "GOOG\n"
     ]
    }
   ],
   "source": [
    "# Getting data from Yahoo Finance\n",
    "from pandas_datareader import data as pdr\n",
    "\n",
    "import fix_yahoo_finance as yf\n",
    "yf.pdr_override() # <== that's all it takes :-)\n",
    "\n",
    "tickers = ['MMM','AAPL', 'NVDA', 'BKNG', 'NFLX', 'GOOG']\n",
    "for ticker in tickers:\n",
    "    data = pdr.get_data_yahoo(ticker, start=\"2008-10-01\", end=\"2018-08-30\")\n",
    "\n",
    "    data.to_csv('data/{}.csv'.format(ticker))\n",
    "    \n",
    "    print(ticker)"
   ]
  },
  {
   "cell_type": "code",
   "execution_count": 1,
   "metadata": {},
   "outputs": [],
   "source": [
    "# Recurrent Neural Network\n",
    "\n",
    "# Part 1 - Data Preprocessing\n",
    "\n",
    "# Importing the libraries\n",
    "import numpy as np\n",
    "import matplotlib.pyplot as plt\n",
    "import pandas as pd"
   ]
  },
  {
   "cell_type": "code",
   "execution_count": 2,
   "metadata": {},
   "outputs": [],
   "source": [
    "# Importing the training set\n",
    "dataset_train = pd.read_csv('data/MMM.csv')"
   ]
  },
  {
   "cell_type": "code",
   "execution_count": 3,
   "metadata": {},
   "outputs": [
    {
     "data": {
      "text/html": [
       "<div>\n",
       "<style scoped>\n",
       "    .dataframe tbody tr th:only-of-type {\n",
       "        vertical-align: middle;\n",
       "    }\n",
       "\n",
       "    .dataframe tbody tr th {\n",
       "        vertical-align: top;\n",
       "    }\n",
       "\n",
       "    .dataframe thead th {\n",
       "        text-align: right;\n",
       "    }\n",
       "</style>\n",
       "<table border=\"1\" class=\"dataframe\">\n",
       "  <thead>\n",
       "    <tr style=\"text-align: right;\">\n",
       "      <th></th>\n",
       "      <th>Date</th>\n",
       "      <th>Open</th>\n",
       "      <th>High</th>\n",
       "      <th>Low</th>\n",
       "      <th>Close</th>\n",
       "      <th>Adj Close</th>\n",
       "      <th>Volume</th>\n",
       "    </tr>\n",
       "  </thead>\n",
       "  <tbody>\n",
       "    <tr>\n",
       "      <th>0</th>\n",
       "      <td>2008-10-01</td>\n",
       "      <td>67.669998</td>\n",
       "      <td>68.309998</td>\n",
       "      <td>66.860001</td>\n",
       "      <td>67.389999</td>\n",
       "      <td>51.954803</td>\n",
       "      <td>4615700</td>\n",
       "    </tr>\n",
       "    <tr>\n",
       "      <th>1</th>\n",
       "      <td>2008-10-02</td>\n",
       "      <td>66.910004</td>\n",
       "      <td>67.750000</td>\n",
       "      <td>65.510002</td>\n",
       "      <td>65.599998</td>\n",
       "      <td>50.574795</td>\n",
       "      <td>7880100</td>\n",
       "    </tr>\n",
       "    <tr>\n",
       "      <th>2</th>\n",
       "      <td>2008-10-03</td>\n",
       "      <td>66.089996</td>\n",
       "      <td>67.250000</td>\n",
       "      <td>64.510002</td>\n",
       "      <td>64.599998</td>\n",
       "      <td>49.803844</td>\n",
       "      <td>6588000</td>\n",
       "    </tr>\n",
       "    <tr>\n",
       "      <th>3</th>\n",
       "      <td>2008-10-06</td>\n",
       "      <td>63.099998</td>\n",
       "      <td>64.379997</td>\n",
       "      <td>60.930000</td>\n",
       "      <td>63.000000</td>\n",
       "      <td>48.570309</td>\n",
       "      <td>10949000</td>\n",
       "    </tr>\n",
       "    <tr>\n",
       "      <th>4</th>\n",
       "      <td>2008-10-07</td>\n",
       "      <td>63.750000</td>\n",
       "      <td>64.500000</td>\n",
       "      <td>59.869999</td>\n",
       "      <td>59.970001</td>\n",
       "      <td>46.234310</td>\n",
       "      <td>8798100</td>\n",
       "    </tr>\n",
       "  </tbody>\n",
       "</table>\n",
       "</div>"
      ],
      "text/plain": [
       "         Date       Open       High        Low      Close  Adj Close    Volume\n",
       "0  2008-10-01  67.669998  68.309998  66.860001  67.389999  51.954803   4615700\n",
       "1  2008-10-02  66.910004  67.750000  65.510002  65.599998  50.574795   7880100\n",
       "2  2008-10-03  66.089996  67.250000  64.510002  64.599998  49.803844   6588000\n",
       "3  2008-10-06  63.099998  64.379997  60.930000  63.000000  48.570309  10949000\n",
       "4  2008-10-07  63.750000  64.500000  59.869999  59.970001  46.234310   8798100"
      ]
     },
     "execution_count": 3,
     "metadata": {},
     "output_type": "execute_result"
    }
   ],
   "source": [
    "dataset_train.head()"
   ]
  },
  {
   "cell_type": "code",
   "execution_count": 4,
   "metadata": {},
   "outputs": [],
   "source": [
    "training_set = dataset_train.iloc[:,5:6].values"
   ]
  },
  {
   "cell_type": "code",
   "execution_count": 5,
   "metadata": {},
   "outputs": [
    {
     "data": {
      "text/plain": [
       "(2497, 1)"
      ]
     },
     "execution_count": 5,
     "metadata": {},
     "output_type": "execute_result"
    }
   ],
   "source": [
    "training_set.shape"
   ]
  },
  {
   "cell_type": "code",
   "execution_count": 6,
   "metadata": {},
   "outputs": [],
   "source": [
    "# Feature Scaling\n",
    "from sklearn.preprocessing import MinMaxScaler\n"
   ]
  },
  {
   "cell_type": "code",
   "execution_count": 7,
   "metadata": {},
   "outputs": [],
   "source": [
    "sc = MinMaxScaler()"
   ]
  },
  {
   "cell_type": "code",
   "execution_count": 8,
   "metadata": {},
   "outputs": [],
   "source": [
    "training_set = sc.fit_transform(training_set)"
   ]
  },
  {
   "cell_type": "code",
   "execution_count": 9,
   "metadata": {},
   "outputs": [
    {
     "data": {
      "text/plain": [
       "array([[ 0.08646052],\n",
       "       [ 0.08021057],\n",
       "       [ 0.076719  ],\n",
       "       ..., \n",
       "       [ 0.79965366],\n",
       "       [ 0.80431851],\n",
       "       [ 0.80323154]])"
      ]
     },
     "execution_count": 9,
     "metadata": {},
     "output_type": "execute_result"
    }
   ],
   "source": [
    "training_set"
   ]
  },
  {
   "cell_type": "code",
   "execution_count": 10,
   "metadata": {},
   "outputs": [],
   "source": [
    "# Getting the inputs and the ouputs\n",
    "X_train = training_set[0:2496]\n",
    "y_train = training_set[1:2497]"
   ]
  },
  {
   "cell_type": "code",
   "execution_count": 11,
   "metadata": {},
   "outputs": [],
   "source": [
    "# Reshaping\n",
    "X_train = np.reshape(X_train, (2496, 1, 1))"
   ]
  },
  {
   "cell_type": "code",
   "execution_count": 12,
   "metadata": {},
   "outputs": [
    {
     "data": {
      "text/plain": [
       "(2496, 1, 1)"
      ]
     },
     "execution_count": 12,
     "metadata": {},
     "output_type": "execute_result"
    }
   ],
   "source": [
    "X_train.shape"
   ]
  },
  {
   "cell_type": "code",
   "execution_count": 13,
   "metadata": {},
   "outputs": [
    {
     "name": "stderr",
     "output_type": "stream",
     "text": [
      "Using TensorFlow backend.\n"
     ]
    }
   ],
   "source": [
    "# Part 2 - Building the RNN\n",
    "\n",
    "# Importing the Keras libraries and packages\n",
    "from keras.models import Sequential\n",
    "from keras.layers import Dense\n",
    "from keras.layers import LSTM\n"
   ]
  },
  {
   "cell_type": "code",
   "execution_count": 14,
   "metadata": {},
   "outputs": [],
   "source": [
    "# Initialising the RNN\n",
    "regressor = Sequential()\n",
    "\n",
    "# Adding the input layer and the LSTM layer\n",
    "regressor.add(LSTM(units = 4, activation = 'sigmoid', input_shape = (None, 1)))\n",
    "\n",
    "# Adding the output layer\n",
    "regressor.add(Dense(units = 1))"
   ]
  },
  {
   "cell_type": "code",
   "execution_count": 15,
   "metadata": {},
   "outputs": [],
   "source": [
    "# Compiling the RNN\n",
    "regressor.compile(optimizer = 'adam', loss = 'mean_squared_error')"
   ]
  },
  {
   "cell_type": "code",
   "execution_count": 16,
   "metadata": {},
   "outputs": [
    {
     "name": "stdout",
     "output_type": "stream",
     "text": [
      "Epoch 1/100\n",
      "2496/2496 [==============================] - 0s - loss: 0.0656     \n",
      "Epoch 2/100\n",
      "2496/2496 [==============================] - 0s - loss: 0.0624     \n",
      "Epoch 3/100\n",
      "2496/2496 [==============================] - 0s - loss: 0.0596     \n",
      "Epoch 4/100\n",
      "2496/2496 [==============================] - 0s - loss: 0.0567     \n",
      "Epoch 5/100\n",
      "2496/2496 [==============================] - 0s - loss: 0.0539     \n",
      "Epoch 6/100\n",
      "2496/2496 [==============================] - 0s - loss: 0.0509     \n",
      "Epoch 7/100\n",
      "2496/2496 [==============================] - 0s - loss: 0.0479     \n",
      "Epoch 8/100\n",
      "2496/2496 [==============================] - 0s - loss: 0.0447     \n",
      "Epoch 9/100\n",
      "2496/2496 [==============================] - 0s - loss: 0.0414     \n",
      "Epoch 10/100\n",
      "2496/2496 [==============================] - 0s - loss: 0.0378     \n",
      "Epoch 11/100\n",
      "2496/2496 [==============================] - 0s - loss: 0.0341     \n",
      "Epoch 12/100\n",
      "2496/2496 [==============================] - 0s - loss: 0.0303     \n",
      "Epoch 13/100\n",
      "2496/2496 [==============================] - 0s - loss: 0.0265     \n",
      "Epoch 14/100\n",
      "2496/2496 [==============================] - 0s - loss: 0.0226     - ETA: 0s - loss: 0.\n",
      "Epoch 15/100\n",
      "2496/2496 [==============================] - 0s - loss: 0.0189     \n",
      "Epoch 16/100\n",
      "2496/2496 [==============================] - 0s - loss: 0.0154     \n",
      "Epoch 17/100\n",
      "2496/2496 [==============================] - 0s - loss: 0.0123     \n",
      "Epoch 18/100\n",
      "2496/2496 [==============================] - 0s - loss: 0.0094     \n",
      "Epoch 19/100\n",
      "2496/2496 [==============================] - 0s - loss: 0.0070     \n",
      "Epoch 20/100\n",
      "2496/2496 [==============================] - 0s - loss: 0.0051     \n",
      "Epoch 21/100\n",
      "2496/2496 [==============================] - 0s - loss: 0.0035     \n",
      "Epoch 22/100\n",
      "2496/2496 [==============================] - 0s - loss: 0.0024     \n",
      "Epoch 23/100\n",
      "2496/2496 [==============================] - 0s - loss: 0.0015     \n",
      "Epoch 24/100\n",
      "2496/2496 [==============================] - 0s - loss: 9.4238e-04     \n",
      "Epoch 25/100\n",
      "2496/2496 [==============================] - 0s - loss: 5.6843e-04     \n",
      "Epoch 26/100\n",
      "2496/2496 [==============================] - 0s - loss: 3.3782e-04     \n",
      "Epoch 27/100\n",
      "2496/2496 [==============================] - 0s - loss: 2.0136e-04     \n",
      "Epoch 28/100\n",
      "2496/2496 [==============================] - 0s - loss: 1.2427e-04     \n",
      "Epoch 29/100\n",
      "2496/2496 [==============================] - 0s - loss: 8.3002e-05     \n",
      "Epoch 30/100\n",
      "2496/2496 [==============================] - 0s - loss: 6.1720e-05     \n",
      "Epoch 31/100\n",
      "2496/2496 [==============================] - 0s - loss: 5.1382e-05     \n",
      "Epoch 32/100\n",
      "2496/2496 [==============================] - 0s - loss: 4.6549e-05     \n",
      "Epoch 33/100\n",
      "2496/2496 [==============================] - 0s - loss: 4.4326e-05     \n",
      "Epoch 34/100\n",
      "2496/2496 [==============================] - 0s - loss: 4.3276e-05     \n",
      "Epoch 35/100\n",
      "2496/2496 [==============================] - 0s - loss: 4.3196e-05     \n",
      "Epoch 36/100\n",
      "2496/2496 [==============================] - 0s - loss: 4.2835e-05     \n",
      "Epoch 37/100\n",
      "2496/2496 [==============================] - 0s - loss: 4.2900e-05     \n",
      "Epoch 38/100\n",
      "2496/2496 [==============================] - 0s - loss: 4.2734e-05     \n",
      "Epoch 39/100\n",
      "2496/2496 [==============================] - 0s - loss: 4.2924e-05     \n",
      "Epoch 40/100\n",
      "2496/2496 [==============================] - 0s - loss: 4.2845e-05     \n",
      "Epoch 41/100\n",
      "2496/2496 [==============================] - 0s - loss: 4.2756e-05     \n",
      "Epoch 42/100\n",
      "2496/2496 [==============================] - 0s - loss: 4.2880e-05     \n",
      "Epoch 43/100\n",
      "2496/2496 [==============================] - 0s - loss: 4.2794e-05     \n",
      "Epoch 44/100\n",
      "2496/2496 [==============================] - 0s - loss: 4.2724e-05     \n",
      "Epoch 45/100\n",
      "2496/2496 [==============================] - 0s - loss: 4.2798e-05     \n",
      "Epoch 46/100\n",
      "2496/2496 [==============================] - 0s - loss: 4.3045e-05     \n",
      "Epoch 47/100\n",
      "2496/2496 [==============================] - 0s - loss: 4.2701e-05     \n",
      "Epoch 48/100\n",
      "2496/2496 [==============================] - 0s - loss: 4.2874e-05     \n",
      "Epoch 49/100\n",
      "2496/2496 [==============================] - 0s - loss: 4.3020e-05     \n",
      "Epoch 50/100\n",
      "2496/2496 [==============================] - 0s - loss: 4.2936e-05     \n",
      "Epoch 51/100\n",
      "2496/2496 [==============================] - 0s - loss: 4.3101e-05     \n",
      "Epoch 52/100\n",
      "2496/2496 [==============================] - 0s - loss: 4.3022e-05     \n",
      "Epoch 53/100\n",
      "2496/2496 [==============================] - 0s - loss: 4.2787e-05     \n",
      "Epoch 54/100\n",
      "2496/2496 [==============================] - 0s - loss: 4.2737e-05     \n",
      "Epoch 55/100\n",
      "2496/2496 [==============================] - 0s - loss: 4.2756e-05     \n",
      "Epoch 56/100\n",
      "2496/2496 [==============================] - 0s - loss: 4.2809e-05     \n",
      "Epoch 57/100\n",
      "2496/2496 [==============================] - 0s - loss: 4.2998e-05     \n",
      "Epoch 58/100\n",
      "2496/2496 [==============================] - 0s - loss: 4.2995e-05     \n",
      "Epoch 59/100\n",
      "2496/2496 [==============================] - 0s - loss: 4.2755e-05     \n",
      "Epoch 60/100\n",
      "2496/2496 [==============================] - 0s - loss: 4.2992e-05     \n",
      "Epoch 61/100\n",
      "2496/2496 [==============================] - 0s - loss: 4.3027e-05     \n",
      "Epoch 62/100\n",
      "2496/2496 [==============================] - 0s - loss: 4.3149e-05     \n",
      "Epoch 63/100\n",
      "2496/2496 [==============================] - 0s - loss: 4.2938e-05     \n",
      "Epoch 64/100\n",
      "2496/2496 [==============================] - 0s - loss: 4.3216e-05     \n",
      "Epoch 65/100\n",
      "2496/2496 [==============================] - 0s - loss: 4.2781e-05     \n",
      "Epoch 66/100\n",
      "2496/2496 [==============================] - 0s - loss: 4.3053e-05     \n",
      "Epoch 67/100\n",
      "2496/2496 [==============================] - 0s - loss: 4.3043e-05     \n",
      "Epoch 68/100\n",
      "2496/2496 [==============================] - 0s - loss: 4.3447e-05     \n",
      "Epoch 69/100\n",
      "2496/2496 [==============================] - 0s - loss: 4.3447e-05     \n",
      "Epoch 70/100\n",
      "2496/2496 [==============================] - 0s - loss: 4.3395e-05     \n",
      "Epoch 71/100\n",
      "2496/2496 [==============================] - 0s - loss: 4.3091e-05     \n",
      "Epoch 72/100\n",
      "2496/2496 [==============================] - 0s - loss: 4.3095e-05     \n",
      "Epoch 73/100\n",
      "2496/2496 [==============================] - 0s - loss: 4.3922e-05     \n",
      "Epoch 74/100\n",
      "2496/2496 [==============================] - 0s - loss: 4.3229e-05     \n",
      "Epoch 75/100\n",
      "2496/2496 [==============================] - 0s - loss: 4.3154e-05     \n",
      "Epoch 76/100\n",
      "2496/2496 [==============================] - 0s - loss: 4.3148e-05     \n",
      "Epoch 77/100\n",
      "2496/2496 [==============================] - 0s - loss: 4.3157e-05     \n",
      "Epoch 78/100\n",
      "2496/2496 [==============================] - 0s - loss: 4.3044e-05     \n",
      "Epoch 79/100\n",
      "2496/2496 [==============================] - 0s - loss: 4.4585e-05     \n",
      "Epoch 80/100\n",
      "2496/2496 [==============================] - 0s - loss: 4.3258e-05     \n",
      "Epoch 81/100\n",
      "2496/2496 [==============================] - 0s - loss: 4.3925e-05     \n",
      "Epoch 82/100\n",
      "2496/2496 [==============================] - 0s - loss: 4.3342e-05     \n",
      "Epoch 83/100\n",
      "2496/2496 [==============================] - 0s - loss: 4.3331e-05     \n",
      "Epoch 84/100\n",
      "2496/2496 [==============================] - 0s - loss: 4.3501e-05     \n",
      "Epoch 85/100\n",
      "2496/2496 [==============================] - 0s - loss: 4.3267e-05     \n",
      "Epoch 86/100\n",
      "2496/2496 [==============================] - 0s - loss: 4.3667e-05     \n",
      "Epoch 87/100\n",
      "2496/2496 [==============================] - 0s - loss: 4.2895e-05     \n",
      "Epoch 88/100\n",
      "2496/2496 [==============================] - 0s - loss: 4.3770e-05     \n",
      "Epoch 89/100\n",
      "2496/2496 [==============================] - 0s - loss: 4.3358e-05     \n",
      "Epoch 90/100\n",
      "2496/2496 [==============================] - 0s - loss: 4.4534e-05     \n",
      "Epoch 91/100\n",
      "2496/2496 [==============================] - 0s - loss: 4.3195e-05     \n",
      "Epoch 92/100\n",
      "2496/2496 [==============================] - 0s - loss: 4.3372e-05     \n",
      "Epoch 93/100\n",
      "2496/2496 [==============================] - 0s - loss: 4.4400e-05     \n",
      "Epoch 94/100\n",
      "2496/2496 [==============================] - 0s - loss: 4.3264e-05     \n",
      "Epoch 95/100\n",
      "2496/2496 [==============================] - 0s - loss: 4.3193e-05     \n",
      "Epoch 96/100\n",
      "2496/2496 [==============================] - 0s - loss: 4.3582e-05     \n",
      "Epoch 97/100\n",
      "2496/2496 [==============================] - 0s - loss: 4.4910e-05     \n",
      "Epoch 98/100\n"
     ]
    },
    {
     "name": "stdout",
     "output_type": "stream",
     "text": [
      "2496/2496 [==============================] - 0s - loss: 4.3183e-05     \n",
      "Epoch 99/100\n",
      "2496/2496 [==============================] - 0s - loss: 4.3952e-05     \n",
      "Epoch 100/100\n",
      "2496/2496 [==============================] - 0s - loss: 4.6363e-05     \n"
     ]
    },
    {
     "data": {
      "text/plain": [
       "<keras.callbacks.History at 0x7f34e40a7a90>"
      ]
     },
     "execution_count": 16,
     "metadata": {},
     "output_type": "execute_result"
    }
   ],
   "source": [
    "# Fitting the RNN to the Training set\n",
    "regressor.fit(X_train, y_train, batch_size = 32, epochs = 100)"
   ]
  },
  {
   "cell_type": "code",
   "execution_count": 30,
   "metadata": {},
   "outputs": [
    {
     "name": "stdout",
     "output_type": "stream",
     "text": [
      "[*********************100%***********************]  1 of 1 downloaded\n",
      "MMM\n",
      "[*********************100%***********************]  1 of 1 downloaded\n",
      "AAPL\n",
      "[*********************100%***********************]  1 of 1 downloaded\n",
      "NVDA\n",
      "[*********************100%***********************]  1 of 1 downloaded\n",
      "BKNG\n",
      "[*********************100%***********************]  1 of 1 downloaded\n",
      "NFLX\n",
      "[*********************100%***********************]  1 of 1 downloaded\n",
      "GOOG\n"
     ]
    }
   ],
   "source": [
    "# Getting data from Yahoo Finance\n",
    "from pandas_datareader import data as pdr\n",
    "\n",
    "import fix_yahoo_finance as yf\n",
    "yf.pdr_override() # <== that's all it takes :-)\n",
    "\n",
    "tickers = ['MMM','AAPL', 'NVDA', 'BKNG', 'NFLX', 'GOOG']\n",
    "for ticker in tickers:\n",
    "    data = pdr.get_data_yahoo(ticker, start=\"2018-09-03\", end=\"2018-09-28\")\n",
    "\n",
    "    data.to_csv('data/{}_test.csv'.format(ticker))\n",
    "    \n",
    "    print(ticker)"
   ]
  },
  {
   "cell_type": "code",
   "execution_count": 17,
   "metadata": {},
   "outputs": [],
   "source": [
    "# Part 3 - Making the predictions and visualising the results\n",
    "\n",
    "# Getting the real stock price of 2017\n",
    "dataset_test = pd.read_csv('data/MMM_test.csv')\n"
   ]
  },
  {
   "cell_type": "code",
   "execution_count": 18,
   "metadata": {},
   "outputs": [
    {
     "data": {
      "text/html": [
       "<div>\n",
       "<style scoped>\n",
       "    .dataframe tbody tr th:only-of-type {\n",
       "        vertical-align: middle;\n",
       "    }\n",
       "\n",
       "    .dataframe tbody tr th {\n",
       "        vertical-align: top;\n",
       "    }\n",
       "\n",
       "    .dataframe thead th {\n",
       "        text-align: right;\n",
       "    }\n",
       "</style>\n",
       "<table border=\"1\" class=\"dataframe\">\n",
       "  <thead>\n",
       "    <tr style=\"text-align: right;\">\n",
       "      <th></th>\n",
       "      <th>Date</th>\n",
       "      <th>Open</th>\n",
       "      <th>High</th>\n",
       "      <th>Low</th>\n",
       "      <th>Close</th>\n",
       "      <th>Adj Close</th>\n",
       "      <th>Volume</th>\n",
       "    </tr>\n",
       "  </thead>\n",
       "  <tbody>\n",
       "    <tr>\n",
       "      <th>0</th>\n",
       "      <td>2018-09-04</td>\n",
       "      <td>210.550003</td>\n",
       "      <td>210.750000</td>\n",
       "      <td>207.550003</td>\n",
       "      <td>208.600006</td>\n",
       "      <td>208.600006</td>\n",
       "      <td>2108500</td>\n",
       "    </tr>\n",
       "    <tr>\n",
       "      <th>1</th>\n",
       "      <td>2018-09-05</td>\n",
       "      <td>208.289993</td>\n",
       "      <td>211.910004</td>\n",
       "      <td>207.350006</td>\n",
       "      <td>211.830002</td>\n",
       "      <td>211.830002</td>\n",
       "      <td>1951500</td>\n",
       "    </tr>\n",
       "    <tr>\n",
       "      <th>2</th>\n",
       "      <td>2018-09-06</td>\n",
       "      <td>212.000000</td>\n",
       "      <td>213.369995</td>\n",
       "      <td>211.070007</td>\n",
       "      <td>212.740005</td>\n",
       "      <td>212.740005</td>\n",
       "      <td>2363500</td>\n",
       "    </tr>\n",
       "    <tr>\n",
       "      <th>3</th>\n",
       "      <td>2018-09-07</td>\n",
       "      <td>212.240005</td>\n",
       "      <td>212.970001</td>\n",
       "      <td>209.970001</td>\n",
       "      <td>212.570007</td>\n",
       "      <td>212.570007</td>\n",
       "      <td>2739200</td>\n",
       "    </tr>\n",
       "    <tr>\n",
       "      <th>4</th>\n",
       "      <td>2018-09-10</td>\n",
       "      <td>213.679993</td>\n",
       "      <td>216.369995</td>\n",
       "      <td>212.860001</td>\n",
       "      <td>212.929993</td>\n",
       "      <td>212.929993</td>\n",
       "      <td>2399700</td>\n",
       "    </tr>\n",
       "    <tr>\n",
       "      <th>5</th>\n",
       "      <td>2018-09-11</td>\n",
       "      <td>211.360001</td>\n",
       "      <td>212.220001</td>\n",
       "      <td>210.000000</td>\n",
       "      <td>211.779999</td>\n",
       "      <td>211.779999</td>\n",
       "      <td>1967500</td>\n",
       "    </tr>\n",
       "    <tr>\n",
       "      <th>6</th>\n",
       "      <td>2018-09-12</td>\n",
       "      <td>212.300003</td>\n",
       "      <td>214.759995</td>\n",
       "      <td>205.899994</td>\n",
       "      <td>206.710007</td>\n",
       "      <td>206.710007</td>\n",
       "      <td>4937000</td>\n",
       "    </tr>\n",
       "    <tr>\n",
       "      <th>7</th>\n",
       "      <td>2018-09-13</td>\n",
       "      <td>207.339996</td>\n",
       "      <td>209.139999</td>\n",
       "      <td>206.550003</td>\n",
       "      <td>209.050003</td>\n",
       "      <td>209.050003</td>\n",
       "      <td>2171300</td>\n",
       "    </tr>\n",
       "    <tr>\n",
       "      <th>8</th>\n",
       "      <td>2018-09-14</td>\n",
       "      <td>208.839996</td>\n",
       "      <td>210.300003</td>\n",
       "      <td>207.149994</td>\n",
       "      <td>207.880005</td>\n",
       "      <td>207.880005</td>\n",
       "      <td>1721600</td>\n",
       "    </tr>\n",
       "    <tr>\n",
       "      <th>9</th>\n",
       "      <td>2018-09-17</td>\n",
       "      <td>207.460007</td>\n",
       "      <td>210.190002</td>\n",
       "      <td>207.300003</td>\n",
       "      <td>209.529999</td>\n",
       "      <td>209.529999</td>\n",
       "      <td>1610400</td>\n",
       "    </tr>\n",
       "    <tr>\n",
       "      <th>10</th>\n",
       "      <td>2018-09-18</td>\n",
       "      <td>210.240005</td>\n",
       "      <td>211.830002</td>\n",
       "      <td>208.429993</td>\n",
       "      <td>211.529999</td>\n",
       "      <td>211.529999</td>\n",
       "      <td>1652900</td>\n",
       "    </tr>\n",
       "    <tr>\n",
       "      <th>11</th>\n",
       "      <td>2018-09-19</td>\n",
       "      <td>211.770004</td>\n",
       "      <td>214.139999</td>\n",
       "      <td>211.630005</td>\n",
       "      <td>213.119995</td>\n",
       "      <td>213.119995</td>\n",
       "      <td>1884500</td>\n",
       "    </tr>\n",
       "    <tr>\n",
       "      <th>12</th>\n",
       "      <td>2018-09-20</td>\n",
       "      <td>214.699997</td>\n",
       "      <td>217.000000</td>\n",
       "      <td>213.259995</td>\n",
       "      <td>215.270004</td>\n",
       "      <td>215.270004</td>\n",
       "      <td>2075100</td>\n",
       "    </tr>\n",
       "    <tr>\n",
       "      <th>13</th>\n",
       "      <td>2018-09-21</td>\n",
       "      <td>217.320007</td>\n",
       "      <td>217.869995</td>\n",
       "      <td>215.610001</td>\n",
       "      <td>216.330002</td>\n",
       "      <td>216.330002</td>\n",
       "      <td>5563700</td>\n",
       "    </tr>\n",
       "    <tr>\n",
       "      <th>14</th>\n",
       "      <td>2018-09-24</td>\n",
       "      <td>215.389999</td>\n",
       "      <td>215.869995</td>\n",
       "      <td>212.690002</td>\n",
       "      <td>213.509995</td>\n",
       "      <td>213.509995</td>\n",
       "      <td>2044800</td>\n",
       "    </tr>\n",
       "    <tr>\n",
       "      <th>15</th>\n",
       "      <td>2018-09-25</td>\n",
       "      <td>214.130005</td>\n",
       "      <td>214.130005</td>\n",
       "      <td>210.279999</td>\n",
       "      <td>210.639999</td>\n",
       "      <td>210.639999</td>\n",
       "      <td>2090600</td>\n",
       "    </tr>\n",
       "    <tr>\n",
       "      <th>16</th>\n",
       "      <td>2018-09-26</td>\n",
       "      <td>211.490005</td>\n",
       "      <td>212.589996</td>\n",
       "      <td>210.639999</td>\n",
       "      <td>211.070007</td>\n",
       "      <td>211.070007</td>\n",
       "      <td>1677700</td>\n",
       "    </tr>\n",
       "    <tr>\n",
       "      <th>17</th>\n",
       "      <td>2018-09-27</td>\n",
       "      <td>212.000000</td>\n",
       "      <td>212.869995</td>\n",
       "      <td>210.000000</td>\n",
       "      <td>210.110001</td>\n",
       "      <td>210.110001</td>\n",
       "      <td>1609800</td>\n",
       "    </tr>\n",
       "    <tr>\n",
       "      <th>18</th>\n",
       "      <td>2018-09-28</td>\n",
       "      <td>209.529999</td>\n",
       "      <td>211.279999</td>\n",
       "      <td>208.869995</td>\n",
       "      <td>210.710007</td>\n",
       "      <td>210.710007</td>\n",
       "      <td>2500200</td>\n",
       "    </tr>\n",
       "  </tbody>\n",
       "</table>\n",
       "</div>"
      ],
      "text/plain": [
       "          Date        Open        High         Low       Close   Adj Close  \\\n",
       "0   2018-09-04  210.550003  210.750000  207.550003  208.600006  208.600006   \n",
       "1   2018-09-05  208.289993  211.910004  207.350006  211.830002  211.830002   \n",
       "2   2018-09-06  212.000000  213.369995  211.070007  212.740005  212.740005   \n",
       "3   2018-09-07  212.240005  212.970001  209.970001  212.570007  212.570007   \n",
       "4   2018-09-10  213.679993  216.369995  212.860001  212.929993  212.929993   \n",
       "5   2018-09-11  211.360001  212.220001  210.000000  211.779999  211.779999   \n",
       "6   2018-09-12  212.300003  214.759995  205.899994  206.710007  206.710007   \n",
       "7   2018-09-13  207.339996  209.139999  206.550003  209.050003  209.050003   \n",
       "8   2018-09-14  208.839996  210.300003  207.149994  207.880005  207.880005   \n",
       "9   2018-09-17  207.460007  210.190002  207.300003  209.529999  209.529999   \n",
       "10  2018-09-18  210.240005  211.830002  208.429993  211.529999  211.529999   \n",
       "11  2018-09-19  211.770004  214.139999  211.630005  213.119995  213.119995   \n",
       "12  2018-09-20  214.699997  217.000000  213.259995  215.270004  215.270004   \n",
       "13  2018-09-21  217.320007  217.869995  215.610001  216.330002  216.330002   \n",
       "14  2018-09-24  215.389999  215.869995  212.690002  213.509995  213.509995   \n",
       "15  2018-09-25  214.130005  214.130005  210.279999  210.639999  210.639999   \n",
       "16  2018-09-26  211.490005  212.589996  210.639999  211.070007  211.070007   \n",
       "17  2018-09-27  212.000000  212.869995  210.000000  210.110001  210.110001   \n",
       "18  2018-09-28  209.529999  211.279999  208.869995  210.710007  210.710007   \n",
       "\n",
       "     Volume  \n",
       "0   2108500  \n",
       "1   1951500  \n",
       "2   2363500  \n",
       "3   2739200  \n",
       "4   2399700  \n",
       "5   1967500  \n",
       "6   4937000  \n",
       "7   2171300  \n",
       "8   1721600  \n",
       "9   1610400  \n",
       "10  1652900  \n",
       "11  1884500  \n",
       "12  2075100  \n",
       "13  5563700  \n",
       "14  2044800  \n",
       "15  2090600  \n",
       "16  1677700  \n",
       "17  1609800  \n",
       "18  2500200  "
      ]
     },
     "execution_count": 18,
     "metadata": {},
     "output_type": "execute_result"
    }
   ],
   "source": [
    "dataset_test"
   ]
  },
  {
   "cell_type": "code",
   "execution_count": 19,
   "metadata": {},
   "outputs": [],
   "source": [
    "# Part 3 - Making the predictions and visualising the results\n",
    "real_stock_price = dataset_test.iloc[:, 5:6].values\n",
    "\n",
    "\n",
    "# Getting the predicted stock price of 2018\n",
    "inputs = real_stock_price\n",
    "inputs = sc.transform(inputs)\n",
    "inputs = np.reshape(inputs, (19, 1, 1))\n",
    "predicted_stock_price = regressor.predict(inputs)\n",
    "predicted_stock_price = sc.inverse_transform(predicted_stock_price)"
   ]
  },
  {
   "cell_type": "code",
   "execution_count": 20,
   "metadata": {},
   "outputs": [
    {
     "data": {
      "text/plain": [
       "array([[ 208.600006],\n",
       "       [ 211.830002],\n",
       "       [ 212.740005],\n",
       "       [ 212.570007],\n",
       "       [ 212.929993],\n",
       "       [ 211.779999],\n",
       "       [ 206.710007],\n",
       "       [ 209.050003],\n",
       "       [ 207.880005],\n",
       "       [ 209.529999],\n",
       "       [ 211.529999],\n",
       "       [ 213.119995],\n",
       "       [ 215.270004],\n",
       "       [ 216.330002],\n",
       "       [ 213.509995],\n",
       "       [ 210.639999],\n",
       "       [ 211.070007],\n",
       "       [ 210.110001],\n",
       "       [ 210.710007]])"
      ]
     },
     "execution_count": 20,
     "metadata": {},
     "output_type": "execute_result"
    }
   ],
   "source": [
    "real_stock_price"
   ]
  },
  {
   "cell_type": "code",
   "execution_count": 21,
   "metadata": {},
   "outputs": [
    {
     "data": {
      "text/plain": [
       "array([[ 209.14929199],\n",
       "       [ 212.34494019],\n",
       "       [ 213.24472046],\n",
       "       [ 213.07666016],\n",
       "       [ 213.43252563],\n",
       "       [ 212.29551697],\n",
       "       [ 207.2780304 ],\n",
       "       [ 209.59474182],\n",
       "       [ 208.43658447],\n",
       "       [ 210.06973267],\n",
       "       [ 212.04826355],\n",
       "       [ 213.62037659],\n",
       "       [ 215.74497986],\n",
       "       [ 216.79194641],\n",
       "       [ 214.00584412],\n",
       "       [ 211.16798401],\n",
       "       [ 211.59332275],\n",
       "       [ 210.64363098],\n",
       "       [ 211.23721313]], dtype=float32)"
      ]
     },
     "execution_count": 21,
     "metadata": {},
     "output_type": "execute_result"
    }
   ],
   "source": [
    "predicted_stock_price"
   ]
  },
  {
   "cell_type": "code",
   "execution_count": 22,
   "metadata": {},
   "outputs": [
    {
     "data": {
      "image/png": "[encoded data removed]",
      "text/plain": [
       "<matplotlib.figure.Figure at 0x7f34c7f88cc0>"
      ]
     },
     "metadata": {},
     "output_type": "display_data"
    }
   ],
   "source": [
    "# Visualising the results\n",
    "plt.figure(figsize=(12,6))\n",
    "plt.plot(real_stock_price, color = 'red', label = 'Real 3M Stock Price')\n",
    "plt.plot(predicted_stock_price, color = 'blue', label = 'Predicted 3M Stock Price')\n",
    "plt.title('3M Stock Price Prediction')\n",
    "plt.xlabel('Time')\n",
    "plt.ylabel('3M Stock Price')\n",
    "plt.legend()\n",
    "plt.show()"
   ]
  },
  {
   "cell_type": "code",
   "execution_count": 23,
   "metadata": {},
   "outputs": [
    {
     "name": "stdout",
     "output_type": "stream",
     "text": [
      "(19, 1)\n",
      "(19, 1)\n"
     ]
    }
   ],
   "source": [
    "print(real_stock_price.shape)\n",
    "print(predicted_stock_price.shape)"
   ]
  },
  {
   "cell_type": "code",
   "execution_count": 24,
   "metadata": {},
   "outputs": [],
   "source": [
    "# Part 4 - Evaluating the RNN\n",
    "\n",
    "import math\n",
    "from sklearn.metrics import mean_squared_error\n",
    "from sklearn.metrics import mean_absolute_error"
   ]
  },
  {
   "cell_type": "code",
   "execution_count": 25,
   "metadata": {},
   "outputs": [
    {
     "name": "stdout",
     "output_type": "stream",
     "text": [
      "Score\n",
      "MAE:  0.5193\n",
      "RMSE: 0.5199  \n"
     ]
    }
   ],
   "source": [
    "#  Evaluating the RNN\n",
    "print (\"Score\")\n",
    "print('MAE:  %.4F' % (mean_absolute_error(real_stock_price, predicted_stock_price)))\n",
    "print('RMSE: %.4f  ' % (math.sqrt(mean_squared_error(real_stock_price, predicted_stock_price))))"
   ]
  },
  {
   "cell_type": "code",
   "execution_count": 31,
   "metadata": {},
   "outputs": [
    {
     "name": "stdout",
     "output_type": "stream",
     "text": [
      "MSE:  0.2703\n"
     ]
    }
   ],
   "source": [
    "print('MSE:  %.4f' % (mean_squared_error(real_stock_price, predicted_stock_price)))"
   ]
  },
  {
   "cell_type": "code",
   "execution_count": 32,
   "metadata": {},
   "outputs": [],
   "source": [
    "# Getting the real stock price of 2008 - 2018\n",
    "real_stock_price_train = pd.read_csv('data/MMM.csv')\n",
    "real_stock_price_train = real_stock_price_train.iloc[:,5:6].values\n",
    "\n",
    "# Getting the predicted stock price of 2008 - 2018\n",
    "predicted_stock_price_train = regressor.predict(X_train)\n",
    "predicted_stock_price_train = sc.inverse_transform(predicted_stock_price_train)"
   ]
  },
  {
   "cell_type": "code",
   "execution_count": 33,
   "metadata": {},
   "outputs": [
    {
     "data": {
      "image/png": "[encoded data removed]",
      "text/plain": [
       "<matplotlib.figure.Figure at 0x7f34c7ee0b70>"
      ]
     },
     "metadata": {},
     "output_type": "display_data"
    }
   ],
   "source": [
    "# Visualising the results\n",
    "plt.figure(figsize=(12,6))\n",
    "plt.plot(real_stock_price_train, color = 'red', label = 'Real 3M Stock Price')\n",
    "plt.plot(predicted_stock_price_train, color = 'blue', label = 'Predicted 3M Stock Price')\n",
    "plt.title('3M Stock Price Prediction')\n",
    "plt.xlabel('Time')\n",
    "plt.ylabel('3M Stock Price')\n",
    "plt.legend()\n",
    "plt.show()"
   ]
  },
  {
   "cell_type": "code",
   "execution_count": 34,
   "metadata": {},
   "outputs": [],
   "source": [
    "real_stock_price_train = real_stock_price_train[:2496]"
   ]
  },
  {
   "cell_type": "code",
   "execution_count": 35,
   "metadata": {},
   "outputs": [
    {
     "name": "stdout",
     "output_type": "stream",
     "text": [
      "Score\n",
      "MAE:  0.5985\n",
      "RMSE: 0.6096  \n"
     ]
    }
   ],
   "source": [
    "#  Evaluating the RNN\n",
    "print (\"Score\")\n",
    "print('MAE:  %.4F' % (mean_absolute_error(real_stock_price_train, predicted_stock_price_train)))\n",
    "print('RMSE: %.4f  ' % (math.sqrt(mean_squared_error(real_stock_price_train, predicted_stock_price_train))))"
   ]
  },
  {
   "cell_type": "code",
   "execution_count": 36,
   "metadata": {},
   "outputs": [
    {
     "name": "stdout",
     "output_type": "stream",
     "text": [
      "MSE:  0.3716\n"
     ]
    }
   ],
   "source": [
    "print('MSE:  %.4f' % (mean_squared_error(real_stock_price_train, predicted_stock_price_train)))"
   ]
  }
 ],
 "metadata": {
  "kernelspec": {
   "display_name": "stock-price-indicator",
   "language": "python",
   "name": "stock-price-indicator"
  },
  "language_info": {
   "codemirror_mode": {
    "name": "ipython",
    "version": 3
   },
   "file_extension": ".py",
   "mimetype": "text/x-python",
   "name": "python",
   "nbconvert_exporter": "python",
   "pygments_lexer": "ipython3",
   "version": "3.6.1"
  }
 },
 "nbformat": 4,
 "nbformat_minor": 2
}
