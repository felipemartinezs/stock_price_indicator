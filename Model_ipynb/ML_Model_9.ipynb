{
 "cells": [
  {
   "cell_type": "code",
   "execution_count": 1,
   "metadata": {},
   "outputs": [],
   "source": [
    "# Recurrent Neural Network\n",
    "\n",
    "# Part 1 - Data Preprocessing\n",
    "\n",
    "# Importing the libraries\n",
    "import numpy as np\n",
    "import matplotlib.pyplot as plt\n",
    "import pandas as pd\n",
    "\n",
    "# Importing the training set\n",
    "training_set = pd.read_csv('data/GOOG.csv')\n",
    "training_set = training_set.iloc[:,5:6].values\n",
    "\n"
   ]
  },
  {
   "cell_type": "code",
   "execution_count": 2,
   "metadata": {},
   "outputs": [
    {
     "data": {
      "text/plain": [
       "(2497, 1)"
      ]
     },
     "execution_count": 2,
     "metadata": {},
     "output_type": "execute_result"
    }
   ],
   "source": [
    "training_set.shape"
   ]
  },
  {
   "cell_type": "code",
   "execution_count": 3,
   "metadata": {},
   "outputs": [],
   "source": [
    "# Feature Scaling\n",
    "from sklearn.preprocessing import MinMaxScaler\n",
    "sc = MinMaxScaler()\n",
    "training_set = sc.fit_transform(training_set)\n",
    "\n",
    "# Getting the inputs and the ouputs\n",
    "X_train = training_set[0:2496]\n",
    "y_train = training_set[1:2497]\n",
    "\n",
    "# Reshaping\n",
    "X_train = np.reshape(X_train, (2496, 1, 1))"
   ]
  },
  {
   "cell_type": "code",
   "execution_count": 4,
   "metadata": {},
   "outputs": [
    {
     "data": {
      "text/plain": [
       "(2496, 1, 1)"
      ]
     },
     "execution_count": 4,
     "metadata": {},
     "output_type": "execute_result"
    }
   ],
   "source": [
    "X_train.shape"
   ]
  },
  {
   "cell_type": "code",
   "execution_count": 5,
   "metadata": {},
   "outputs": [
    {
     "name": "stderr",
     "output_type": "stream",
     "text": [
      "Using TensorFlow backend.\n"
     ]
    }
   ],
   "source": [
    "# Part 2 - Building the RNN\n",
    "\n",
    "# Importing the Keras libraries and packages\n",
    "from keras.models import Sequential\n",
    "from keras.layers import Dense\n",
    "from keras.layers import LSTM\n",
    "\n",
    "# Initialising the RNN\n",
    "regressor = Sequential()\n",
    "\n",
    "# Adding the input layer and the LSTM layer\n",
    "regressor.add(LSTM(units = 4, activation = 'sigmoid', input_shape = (None, 1)))\n",
    "\n",
    "# Adding the output layer\n",
    "regressor.add(Dense(units = 1))\n",
    "\n",
    "# Compiling the RNN\n",
    "regressor.compile(optimizer = 'adam', loss = 'mean_squared_error')"
   ]
  },
  {
   "cell_type": "code",
   "execution_count": 6,
   "metadata": {},
   "outputs": [
    {
     "name": "stdout",
     "output_type": "stream",
     "text": [
      "Epoch 1/200\n",
      "2496/2496 [==============================] - 0s - loss: 0.4663     \n",
      "Epoch 2/200\n",
      "2496/2496 [==============================] - 0s - loss: 0.2872     \n",
      "Epoch 3/200\n",
      "2496/2496 [==============================] - 0s - loss: 0.1787     \n",
      "Epoch 4/200\n",
      "2496/2496 [==============================] - 0s - loss: 0.1150     \n",
      "Epoch 5/200\n",
      "2496/2496 [==============================] - 0s - loss: 0.0801     \n",
      "Epoch 6/200\n",
      "2496/2496 [==============================] - 0s - loss: 0.0630     \n",
      "Epoch 7/200\n",
      "2496/2496 [==============================] - 0s - loss: 0.0555     \n",
      "Epoch 8/200\n",
      "2496/2496 [==============================] - 0s - loss: 0.0523     \n",
      "Epoch 9/200\n",
      "2496/2496 [==============================] - 0s - loss: 0.0508     \n",
      "Epoch 10/200\n",
      "2496/2496 [==============================] - 0s - loss: 0.0497     \n",
      "Epoch 11/200\n",
      "2496/2496 [==============================] - 0s - loss: 0.0488     \n",
      "Epoch 12/200\n",
      "2496/2496 [==============================] - 0s - loss: 0.0477     \n",
      "Epoch 13/200\n",
      "2496/2496 [==============================] - 0s - loss: 0.0467     \n",
      "Epoch 14/200\n",
      "2496/2496 [==============================] - 0s - loss: 0.0455     \n",
      "Epoch 15/200\n",
      "2496/2496 [==============================] - 0s - loss: 0.0442     \n",
      "Epoch 16/200\n",
      "2496/2496 [==============================] - 0s - loss: 0.0428     \n",
      "Epoch 17/200\n",
      "2496/2496 [==============================] - 0s - loss: 0.0413     \n",
      "Epoch 18/200\n",
      "2496/2496 [==============================] - 0s - loss: 0.0397     \n",
      "Epoch 19/200\n",
      "2496/2496 [==============================] - 0s - loss: 0.0380     \n",
      "Epoch 20/200\n",
      "2496/2496 [==============================] - 0s - loss: 0.0361     \n",
      "Epoch 21/200\n",
      "2496/2496 [==============================] - 0s - loss: 0.0342     \n",
      "Epoch 22/200\n",
      "2496/2496 [==============================] - 0s - loss: 0.0321     \n",
      "Epoch 23/200\n",
      "2496/2496 [==============================] - 0s - loss: 0.0300     \n",
      "Epoch 24/200\n",
      "2496/2496 [==============================] - 0s - loss: 0.0279     \n",
      "Epoch 25/200\n",
      "2496/2496 [==============================] - 0s - loss: 0.0257     \n",
      "Epoch 26/200\n",
      "2496/2496 [==============================] - 0s - loss: 0.0234     \n",
      "Epoch 27/200\n",
      "2496/2496 [==============================] - 0s - loss: 0.0212     \n",
      "Epoch 28/200\n",
      "2496/2496 [==============================] - 0s - loss: 0.0190     \n",
      "Epoch 29/200\n",
      "2496/2496 [==============================] - 0s - loss: 0.0169     \n",
      "Epoch 30/200\n",
      "2496/2496 [==============================] - 0s - loss: 0.0149     \n",
      "Epoch 31/200\n",
      "2496/2496 [==============================] - 0s - loss: 0.0130     \n",
      "Epoch 32/200\n",
      "2496/2496 [==============================] - 0s - loss: 0.0111     \n",
      "Epoch 33/200\n",
      "2496/2496 [==============================] - 0s - loss: 0.0094     \n",
      "Epoch 34/200\n",
      "2496/2496 [==============================] - 0s - loss: 0.0078     \n",
      "Epoch 35/200\n",
      "2496/2496 [==============================] - 0s - loss: 0.0064     \n",
      "Epoch 36/200\n",
      "2496/2496 [==============================] - 0s - loss: 0.0052     \n",
      "Epoch 37/200\n",
      "2496/2496 [==============================] - 0s - loss: 0.0041     \n",
      "Epoch 38/200\n",
      "2496/2496 [==============================] - 0s - loss: 0.0032     \n",
      "Epoch 39/200\n",
      "2496/2496 [==============================] - 0s - loss: 0.0025     \n",
      "Epoch 40/200\n",
      "2496/2496 [==============================] - 0s - loss: 0.0019     \n",
      "Epoch 41/200\n",
      "2496/2496 [==============================] - 0s - loss: 0.0014     \n",
      "Epoch 42/200\n",
      "2496/2496 [==============================] - 0s - loss: 0.0010     \n",
      "Epoch 43/200\n",
      "2496/2496 [==============================] - 0s - loss: 7.3423e-04     \n",
      "Epoch 44/200\n",
      "2496/2496 [==============================] - 0s - loss: 5.3281e-04     \n",
      "Epoch 45/200\n",
      "2496/2496 [==============================] - 0s - loss: 3.8850e-04     \n",
      "Epoch 46/200\n",
      "2496/2496 [==============================] - 0s - loss: 2.8770e-04     \n",
      "Epoch 47/200\n",
      "2496/2496 [==============================] - 0s - loss: 2.1890e-04     \n",
      "Epoch 48/200\n",
      "2496/2496 [==============================] - 0s - loss: 1.7334e-04     \n",
      "Epoch 49/200\n",
      "2496/2496 [==============================] - 0s - loss: 1.4319e-04     \n",
      "Epoch 50/200\n",
      "2496/2496 [==============================] - 0s - loss: 1.2411e-04     \n",
      "Epoch 51/200\n",
      "2496/2496 [==============================] - 0s - loss: 1.1179e-04     \n",
      "Epoch 52/200\n",
      "2496/2496 [==============================] - 0s - loss: 1.0405e-04     \n",
      "Epoch 53/200\n",
      "2496/2496 [==============================] - 0s - loss: 9.9045e-05     \n",
      "Epoch 54/200\n",
      "2496/2496 [==============================] - 0s - loss: 9.5777e-05     \n",
      "Epoch 55/200\n",
      "2496/2496 [==============================] - 0s - loss: 9.3454e-05     \n",
      "Epoch 56/200\n",
      "2496/2496 [==============================] - 0s - loss: 9.1513e-05     \n",
      "Epoch 57/200\n",
      "2496/2496 [==============================] - 0s - loss: 9.0205e-05     \n",
      "Epoch 58/200\n",
      "2496/2496 [==============================] - 0s - loss: 8.8752e-05     \n",
      "Epoch 59/200\n",
      "2496/2496 [==============================] - 0s - loss: 8.7613e-05     \n",
      "Epoch 60/200\n",
      "2496/2496 [==============================] - 0s - loss: 8.6374e-05     \n",
      "Epoch 61/200\n",
      "2496/2496 [==============================] - 0s - loss: 8.5552e-05     \n",
      "Epoch 62/200\n",
      "2496/2496 [==============================] - 0s - loss: 8.4238e-05     \n",
      "Epoch 63/200\n",
      "2496/2496 [==============================] - 0s - loss: 8.3422e-05     \n",
      "Epoch 64/200\n",
      "2496/2496 [==============================] - 0s - loss: 8.2383e-05     \n",
      "Epoch 65/200\n",
      "2496/2496 [==============================] - 0s - loss: 8.1347e-05     \n",
      "Epoch 66/200\n",
      "2496/2496 [==============================] - 0s - loss: 8.0204e-05     \n",
      "Epoch 67/200\n",
      "2496/2496 [==============================] - 0s - loss: 7.9410e-05     \n",
      "Epoch 68/200\n",
      "2496/2496 [==============================] - 0s - loss: 7.8364e-05     \n",
      "Epoch 69/200\n",
      "2496/2496 [==============================] - 0s - loss: 7.7455e-05     \n",
      "Epoch 70/200\n",
      "2496/2496 [==============================] - 0s - loss: 7.6711e-05     \n",
      "Epoch 71/200\n",
      "2496/2496 [==============================] - 0s - loss: 7.5912e-05     \n",
      "Epoch 72/200\n",
      "2496/2496 [==============================] - 0s - loss: 7.5280e-05     \n",
      "Epoch 73/200\n",
      "2496/2496 [==============================] - 0s - loss: 7.4348e-05     \n",
      "Epoch 74/200\n",
      "2496/2496 [==============================] - 0s - loss: 7.3603e-05     \n",
      "Epoch 75/200\n",
      "2496/2496 [==============================] - 0s - loss: 7.3149e-05     \n",
      "Epoch 76/200\n",
      "2496/2496 [==============================] - 0s - loss: 7.2194e-05     \n",
      "Epoch 77/200\n",
      "2496/2496 [==============================] - 0s - loss: 7.1535e-05     \n",
      "Epoch 78/200\n",
      "2496/2496 [==============================] - 0s - loss: 7.1271e-05     \n",
      "Epoch 79/200\n",
      "2496/2496 [==============================] - 0s - loss: 7.0778e-05     \n",
      "Epoch 80/200\n",
      "2496/2496 [==============================] - 0s - loss: 7.0213e-05     \n",
      "Epoch 81/200\n",
      "2496/2496 [==============================] - 0s - loss: 6.9664e-05     \n",
      "Epoch 82/200\n",
      "2496/2496 [==============================] - 0s - loss: 6.9002e-05     \n",
      "Epoch 83/200\n",
      "2496/2496 [==============================] - 0s - loss: 6.8618e-05     \n",
      "Epoch 84/200\n",
      "2496/2496 [==============================] - 0s - loss: 6.8341e-05     \n",
      "Epoch 85/200\n",
      "2496/2496 [==============================] - 0s - loss: 6.7771e-05     \n",
      "Epoch 86/200\n",
      "2496/2496 [==============================] - 0s - loss: 6.7026e-05     \n",
      "Epoch 87/200\n",
      "2496/2496 [==============================] - 0s - loss: 6.6688e-05     \n",
      "Epoch 88/200\n",
      "2496/2496 [==============================] - 0s - loss: 6.6397e-05     \n",
      "Epoch 89/200\n",
      "2496/2496 [==============================] - 0s - loss: 6.6012e-05     \n",
      "Epoch 90/200\n",
      "2496/2496 [==============================] - 0s - loss: 6.5832e-05     \n",
      "Epoch 91/200\n",
      "2496/2496 [==============================] - 0s - loss: 6.5404e-05     \n",
      "Epoch 92/200\n",
      "2496/2496 [==============================] - 0s - loss: 6.4995e-05     \n",
      "Epoch 93/200\n",
      "2496/2496 [==============================] - 0s - loss: 6.4944e-05     \n",
      "Epoch 94/200\n",
      "2496/2496 [==============================] - 0s - loss: 6.4218e-05     \n",
      "Epoch 95/200\n",
      "2496/2496 [==============================] - 0s - loss: 6.3447e-05     \n",
      "Epoch 96/200\n",
      "2496/2496 [==============================] - 0s - loss: 6.2770e-05     \n",
      "Epoch 97/200\n",
      "2496/2496 [==============================] - 0s - loss: 6.2073e-05     \n",
      "Epoch 98/200\n",
      "2496/2496 [==============================] - 0s - loss: 6.1666e-05     \n",
      "Epoch 99/200\n"
     ]
    },
    {
     "name": "stdout",
     "output_type": "stream",
     "text": [
      "2496/2496 [==============================] - 0s - loss: 6.1346e-05     \n",
      "Epoch 100/200\n",
      "2496/2496 [==============================] - 0s - loss: 6.1239e-05     \n",
      "Epoch 101/200\n",
      "2496/2496 [==============================] - 0s - loss: 6.1274e-05     \n",
      "Epoch 102/200\n",
      "2496/2496 [==============================] - 0s - loss: 6.0168e-05     \n",
      "Epoch 103/200\n",
      "2496/2496 [==============================] - 0s - loss: 5.9583e-05     \n",
      "Epoch 104/200\n",
      "2496/2496 [==============================] - 0s - loss: 5.8998e-05     \n",
      "Epoch 105/200\n",
      "2496/2496 [==============================] - 0s - loss: 5.8967e-05     \n",
      "Epoch 106/200\n",
      "2496/2496 [==============================] - 0s - loss: 5.9060e-05     \n",
      "Epoch 107/200\n",
      "2496/2496 [==============================] - 0s - loss: 5.8475e-05     \n",
      "Epoch 108/200\n",
      "2496/2496 [==============================] - 0s - loss: 5.8249e-05     \n",
      "Epoch 109/200\n",
      "2496/2496 [==============================] - 0s - loss: 5.8394e-05     \n",
      "Epoch 110/200\n",
      "2496/2496 [==============================] - 0s - loss: 5.8270e-05     \n",
      "Epoch 111/200\n",
      "2496/2496 [==============================] - 0s - loss: 5.7708e-05     \n",
      "Epoch 112/200\n",
      "2496/2496 [==============================] - 0s - loss: 5.7393e-05     \n",
      "Epoch 113/200\n",
      "2496/2496 [==============================] - 0s - loss: 5.7657e-05     \n",
      "Epoch 114/200\n",
      "2496/2496 [==============================] - 0s - loss: 5.8608e-05     \n",
      "Epoch 115/200\n",
      "2496/2496 [==============================] - 0s - loss: 5.6794e-05     \n",
      "Epoch 116/200\n",
      "2496/2496 [==============================] - 0s - loss: 5.6484e-05     \n",
      "Epoch 117/200\n",
      "2496/2496 [==============================] - 0s - loss: 5.6622e-05     \n",
      "Epoch 118/200\n",
      "2496/2496 [==============================] - 0s - loss: 5.7996e-05     \n",
      "Epoch 119/200\n",
      "2496/2496 [==============================] - 0s - loss: 5.6512e-05     \n",
      "Epoch 120/200\n",
      "2496/2496 [==============================] - 0s - loss: 5.6244e-05     \n",
      "Epoch 121/200\n",
      "2496/2496 [==============================] - 0s - loss: 5.5831e-05     \n",
      "Epoch 122/200\n",
      "2496/2496 [==============================] - 0s - loss: 5.6668e-05     \n",
      "Epoch 123/200\n",
      "2496/2496 [==============================] - 0s - loss: 5.6980e-05     \n",
      "Epoch 124/200\n",
      "2496/2496 [==============================] - 0s - loss: 5.5626e-05     \n",
      "Epoch 125/200\n",
      "2496/2496 [==============================] - 0s - loss: 5.6116e-05     - ETA: 0s - loss: 6.1277e\n",
      "Epoch 126/200\n",
      "2496/2496 [==============================] - 0s - loss: 5.5732e-05     \n",
      "Epoch 127/200\n",
      "2496/2496 [==============================] - 0s - loss: 5.5385e-05     \n",
      "Epoch 128/200\n",
      "2496/2496 [==============================] - 0s - loss: 5.4900e-05     \n",
      "Epoch 129/200\n",
      "2496/2496 [==============================] - 0s - loss: 5.5106e-05     \n",
      "Epoch 130/200\n",
      "2496/2496 [==============================] - 0s - loss: 5.5680e-05     \n",
      "Epoch 131/200\n",
      "2496/2496 [==============================] - 0s - loss: 5.5960e-05     \n",
      "Epoch 132/200\n",
      "2496/2496 [==============================] - 0s - loss: 5.4652e-05     \n",
      "Epoch 133/200\n",
      "2496/2496 [==============================] - 0s - loss: 5.5503e-05     \n",
      "Epoch 134/200\n",
      "2496/2496 [==============================] - 0s - loss: 5.5717e-05     \n",
      "Epoch 135/200\n",
      "2496/2496 [==============================] - 0s - loss: 5.4530e-05     \n",
      "Epoch 136/200\n",
      "2496/2496 [==============================] - 0s - loss: 5.5327e-05     \n",
      "Epoch 137/200\n",
      "2496/2496 [==============================] - 0s - loss: 5.4792e-05     \n",
      "Epoch 138/200\n",
      "2496/2496 [==============================] - 0s - loss: 5.5395e-05     \n",
      "Epoch 139/200\n",
      "2496/2496 [==============================] - 0s - loss: 5.4793e-05     \n",
      "Epoch 140/200\n",
      "2496/2496 [==============================] - 0s - loss: 5.6309e-05     \n",
      "Epoch 141/200\n",
      "2496/2496 [==============================] - 0s - loss: 5.5414e-05     \n",
      "Epoch 142/200\n",
      "2496/2496 [==============================] - 0s - loss: 5.5043e-05     \n",
      "Epoch 143/200\n",
      "2496/2496 [==============================] - 0s - loss: 5.4847e-05     \n",
      "Epoch 144/200\n",
      "2496/2496 [==============================] - 0s - loss: 5.4921e-05     \n",
      "Epoch 145/200\n",
      "2496/2496 [==============================] - 0s - loss: 5.4480e-05     \n",
      "Epoch 146/200\n",
      "2496/2496 [==============================] - 0s - loss: 5.5723e-05     \n",
      "Epoch 147/200\n",
      "2496/2496 [==============================] - 0s - loss: 5.6051e-05     \n",
      "Epoch 148/200\n",
      "2496/2496 [==============================] - 0s - loss: 5.4982e-05     \n",
      "Epoch 149/200\n",
      "2496/2496 [==============================] - 0s - loss: 5.5275e-05     \n",
      "Epoch 150/200\n",
      "2496/2496 [==============================] - 0s - loss: 5.5053e-05     \n",
      "Epoch 151/200\n",
      "2496/2496 [==============================] - 0s - loss: 5.7172e-05     \n",
      "Epoch 152/200\n",
      "2496/2496 [==============================] - 0s - loss: 5.5448e-05     \n",
      "Epoch 153/200\n",
      "2496/2496 [==============================] - 0s - loss: 5.4981e-05     \n",
      "Epoch 154/200\n",
      "2496/2496 [==============================] - 0s - loss: 5.4829e-05     \n",
      "Epoch 155/200\n",
      "2496/2496 [==============================] - 0s - loss: 5.5643e-05     \n",
      "Epoch 156/200\n",
      "2496/2496 [==============================] - 0s - loss: 5.4338e-05     \n",
      "Epoch 157/200\n",
      "2496/2496 [==============================] - 0s - loss: 5.5388e-05     \n",
      "Epoch 158/200\n",
      "2496/2496 [==============================] - 0s - loss: 5.5870e-05     \n",
      "Epoch 159/200\n",
      "2496/2496 [==============================] - 0s - loss: 5.4770e-05     \n",
      "Epoch 160/200\n",
      "2496/2496 [==============================] - 0s - loss: 5.6654e-05     \n",
      "Epoch 161/200\n",
      "2496/2496 [==============================] - 0s - loss: 5.4553e-05     \n",
      "Epoch 162/200\n",
      "2496/2496 [==============================] - 0s - loss: 5.4740e-05     \n",
      "Epoch 163/200\n",
      "2496/2496 [==============================] - 0s - loss: 5.5077e-05     \n",
      "Epoch 164/200\n",
      "2496/2496 [==============================] - 0s - loss: 5.6019e-05     \n",
      "Epoch 165/200\n",
      "2496/2496 [==============================] - 0s - loss: 5.4187e-05     \n",
      "Epoch 166/200\n",
      "2496/2496 [==============================] - 0s - loss: 5.5064e-05     \n",
      "Epoch 167/200\n",
      "2496/2496 [==============================] - 0s - loss: 5.4822e-05     \n",
      "Epoch 168/200\n",
      "2496/2496 [==============================] - 0s - loss: 5.5249e-05     \n",
      "Epoch 169/200\n",
      "2496/2496 [==============================] - 0s - loss: 5.5182e-05     \n",
      "Epoch 170/200\n",
      "2496/2496 [==============================] - 0s - loss: 5.4954e-05     \n",
      "Epoch 171/200\n",
      "2496/2496 [==============================] - 0s - loss: 5.4536e-05     \n",
      "Epoch 172/200\n",
      "2496/2496 [==============================] - 0s - loss: 5.5074e-05     \n",
      "Epoch 173/200\n",
      "2496/2496 [==============================] - 0s - loss: 5.5875e-05     \n",
      "Epoch 174/200\n",
      "2496/2496 [==============================] - 0s - loss: 5.4922e-05     \n",
      "Epoch 175/200\n",
      "2496/2496 [==============================] - 0s - loss: 5.4484e-05     \n",
      "Epoch 176/200\n",
      "2496/2496 [==============================] - 0s - loss: 5.4620e-05     \n",
      "Epoch 177/200\n",
      "2496/2496 [==============================] - 0s - loss: 5.4981e-05     \n",
      "Epoch 178/200\n",
      "2496/2496 [==============================] - 0s - loss: 5.4976e-05     \n",
      "Epoch 179/200\n",
      "2496/2496 [==============================] - 0s - loss: 5.4905e-05     \n",
      "Epoch 180/200\n",
      "2496/2496 [==============================] - 0s - loss: 5.4871e-05     \n",
      "Epoch 181/200\n",
      "2496/2496 [==============================] - 0s - loss: 5.4391e-05     \n",
      "Epoch 182/200\n",
      "2496/2496 [==============================] - 0s - loss: 5.4985e-05     \n",
      "Epoch 183/200\n",
      "2496/2496 [==============================] - 0s - loss: 5.4754e-05     \n",
      "Epoch 184/200\n",
      "2496/2496 [==============================] - 0s - loss: 5.6089e-05     \n",
      "Epoch 185/200\n",
      "2496/2496 [==============================] - 0s - loss: 5.6247e-05     \n",
      "Epoch 186/200\n",
      "2496/2496 [==============================] - 0s - loss: 5.4436e-05     \n",
      "Epoch 187/200\n",
      "2496/2496 [==============================] - 0s - loss: 5.4761e-05     \n",
      "Epoch 188/200\n",
      "2496/2496 [==============================] - 0s - loss: 5.5067e-05     \n",
      "Epoch 189/200\n",
      "2496/2496 [==============================] - 0s - loss: 5.4501e-05     \n",
      "Epoch 190/200\n",
      "2496/2496 [==============================] - 0s - loss: 5.4654e-05     \n",
      "Epoch 191/200\n",
      "2496/2496 [==============================] - 0s - loss: 5.6196e-05     \n",
      "Epoch 192/200\n",
      "2496/2496 [==============================] - 0s - loss: 5.4708e-05     - ETA: 0s - loss: 5.6064e-\n",
      "Epoch 193/200\n"
     ]
    },
    {
     "name": "stdout",
     "output_type": "stream",
     "text": [
      "2496/2496 [==============================] - 0s - loss: 5.4975e-05     \n",
      "Epoch 194/200\n",
      "2496/2496 [==============================] - 0s - loss: 5.5442e-05     \n",
      "Epoch 195/200\n",
      "2496/2496 [==============================] - 0s - loss: 5.4144e-05     \n",
      "Epoch 196/200\n",
      "2496/2496 [==============================] - 0s - loss: 5.5189e-05     \n",
      "Epoch 197/200\n",
      "2496/2496 [==============================] - 0s - loss: 5.4484e-05     \n",
      "Epoch 198/200\n",
      "2496/2496 [==============================] - 0s - loss: 5.5232e-05     \n",
      "Epoch 199/200\n",
      "2496/2496 [==============================] - 0s - loss: 5.4885e-05     \n",
      "Epoch 200/200\n",
      "2496/2496 [==============================] - 0s - loss: 5.4580e-05     \n"
     ]
    },
    {
     "data": {
      "text/plain": [
       "<keras.callbacks.History at 0x7f3ac8266780>"
      ]
     },
     "execution_count": 6,
     "metadata": {},
     "output_type": "execute_result"
    }
   ],
   "source": [
    "# Fitting the RNN to the Training set\n",
    "regressor.fit(X_train, y_train, batch_size = 32, epochs = 200)"
   ]
  },
  {
   "cell_type": "code",
   "execution_count": 7,
   "metadata": {},
   "outputs": [
    {
     "data": {
      "text/html": [
       "<div>\n",
       "<style scoped>\n",
       "    .dataframe tbody tr th:only-of-type {\n",
       "        vertical-align: middle;\n",
       "    }\n",
       "\n",
       "    .dataframe tbody tr th {\n",
       "        vertical-align: top;\n",
       "    }\n",
       "\n",
       "    .dataframe thead th {\n",
       "        text-align: right;\n",
       "    }\n",
       "</style>\n",
       "<table border=\"1\" class=\"dataframe\">\n",
       "  <thead>\n",
       "    <tr style=\"text-align: right;\">\n",
       "      <th></th>\n",
       "      <th>Date</th>\n",
       "      <th>Open</th>\n",
       "      <th>High</th>\n",
       "      <th>Low</th>\n",
       "      <th>Close</th>\n",
       "      <th>Adj Close</th>\n",
       "      <th>Volume</th>\n",
       "    </tr>\n",
       "  </thead>\n",
       "  <tbody>\n",
       "    <tr>\n",
       "      <th>0</th>\n",
       "      <td>2018-09-04</td>\n",
       "      <td>1204.270020</td>\n",
       "      <td>1212.989990</td>\n",
       "      <td>1192.500000</td>\n",
       "      <td>1197.000000</td>\n",
       "      <td>1197.000000</td>\n",
       "      <td>1831000</td>\n",
       "    </tr>\n",
       "    <tr>\n",
       "      <th>1</th>\n",
       "      <td>2018-09-05</td>\n",
       "      <td>1193.800049</td>\n",
       "      <td>1199.010010</td>\n",
       "      <td>1162.000000</td>\n",
       "      <td>1186.479980</td>\n",
       "      <td>1186.479980</td>\n",
       "      <td>2061300</td>\n",
       "    </tr>\n",
       "    <tr>\n",
       "      <th>2</th>\n",
       "      <td>2018-09-06</td>\n",
       "      <td>1186.300049</td>\n",
       "      <td>1186.300049</td>\n",
       "      <td>1152.000000</td>\n",
       "      <td>1171.439941</td>\n",
       "      <td>1171.439941</td>\n",
       "      <td>1888500</td>\n",
       "    </tr>\n",
       "    <tr>\n",
       "      <th>3</th>\n",
       "      <td>2018-09-07</td>\n",
       "      <td>1158.670044</td>\n",
       "      <td>1175.260010</td>\n",
       "      <td>1157.214966</td>\n",
       "      <td>1164.829956</td>\n",
       "      <td>1164.829956</td>\n",
       "      <td>1401300</td>\n",
       "    </tr>\n",
       "    <tr>\n",
       "      <th>4</th>\n",
       "      <td>2018-09-10</td>\n",
       "      <td>1172.189941</td>\n",
       "      <td>1174.540039</td>\n",
       "      <td>1160.109985</td>\n",
       "      <td>1164.640015</td>\n",
       "      <td>1164.640015</td>\n",
       "      <td>1115400</td>\n",
       "    </tr>\n",
       "  </tbody>\n",
       "</table>\n",
       "</div>"
      ],
      "text/plain": [
       "         Date         Open         High          Low        Close  \\\n",
       "0  2018-09-04  1204.270020  1212.989990  1192.500000  1197.000000   \n",
       "1  2018-09-05  1193.800049  1199.010010  1162.000000  1186.479980   \n",
       "2  2018-09-06  1186.300049  1186.300049  1152.000000  1171.439941   \n",
       "3  2018-09-07  1158.670044  1175.260010  1157.214966  1164.829956   \n",
       "4  2018-09-10  1172.189941  1174.540039  1160.109985  1164.640015   \n",
       "\n",
       "     Adj Close   Volume  \n",
       "0  1197.000000  1831000  \n",
       "1  1186.479980  2061300  \n",
       "2  1171.439941  1888500  \n",
       "3  1164.829956  1401300  \n",
       "4  1164.640015  1115400  "
      ]
     },
     "execution_count": 7,
     "metadata": {},
     "output_type": "execute_result"
    }
   ],
   "source": [
    "test_set = pd.read_csv('data/GOOG_test.csv')\n",
    "test_set.head()"
   ]
  },
  {
   "cell_type": "code",
   "execution_count": 8,
   "metadata": {},
   "outputs": [
    {
     "data": {
      "text/plain": [
       "(19, 7)"
      ]
     },
     "execution_count": 8,
     "metadata": {},
     "output_type": "execute_result"
    }
   ],
   "source": [
    "test_set.shape"
   ]
  },
  {
   "cell_type": "code",
   "execution_count": 9,
   "metadata": {},
   "outputs": [],
   "source": [
    "# Part 3 - Making the predictions and visualising the results\n",
    "\n",
    "# Getting the real stock price of 2018\n",
    "\n",
    "real_stock_price = test_set.iloc[:,5:6].values\n",
    "\n",
    "# Getting the predicted stock price of 2018\n",
    "inputs = real_stock_price\n",
    "inputs = sc.transform(inputs)\n",
    "inputs = np.reshape(inputs, (19, 1, 1))\n",
    "predicted_stock_price = regressor.predict(inputs)\n",
    "predicted_stock_price = sc.inverse_transform(predicted_stock_price)\n",
    "\n"
   ]
  },
  {
   "cell_type": "code",
   "execution_count": 10,
   "metadata": {},
   "outputs": [
    {
     "data": {
      "text/plain": [
       "array([[ 1197.      ],\n",
       "       [ 1186.47998 ],\n",
       "       [ 1171.439941],\n",
       "       [ 1164.829956],\n",
       "       [ 1164.640015],\n",
       "       [ 1177.359985],\n",
       "       [ 1162.819946],\n",
       "       [ 1175.329956],\n",
       "       [ 1172.530029],\n",
       "       [ 1156.050049],\n",
       "       [ 1161.219971],\n",
       "       [ 1171.089966],\n",
       "       [ 1186.869995],\n",
       "       [ 1166.089966],\n",
       "       [ 1173.369995],\n",
       "       [ 1184.650024],\n",
       "       [ 1180.48999 ],\n",
       "       [ 1194.640015],\n",
       "       [ 1193.469971]])"
      ]
     },
     "execution_count": 10,
     "metadata": {},
     "output_type": "execute_result"
    }
   ],
   "source": [
    "real_stock_price"
   ]
  },
  {
   "cell_type": "code",
   "execution_count": 11,
   "metadata": {},
   "outputs": [
    {
     "data": {
      "text/plain": [
       "array([[ 1191.87768555],\n",
       "       [ 1181.56738281],\n",
       "       [ 1166.81555176],\n",
       "       [ 1160.32788086],\n",
       "       [ 1160.14147949],\n",
       "       [ 1172.62365723],\n",
       "       [ 1158.35473633],\n",
       "       [ 1170.63232422],\n",
       "       [ 1167.88513184],\n",
       "       [ 1151.70654297],\n",
       "       [ 1156.78356934],\n",
       "       [ 1166.4720459 ],\n",
       "       [ 1181.94970703],\n",
       "       [ 1161.56494141],\n",
       "       [ 1168.70935059],\n",
       "       [ 1179.77307129],\n",
       "       [ 1175.69372559],\n",
       "       [ 1189.56542969],\n",
       "       [ 1188.41882324]], dtype=float32)"
      ]
     },
     "execution_count": 11,
     "metadata": {},
     "output_type": "execute_result"
    }
   ],
   "source": [
    "predicted_stock_price"
   ]
  },
  {
   "cell_type": "code",
   "execution_count": 20,
   "metadata": {
    "scrolled": true
   },
   "outputs": [
    {
     "data": {
      "image/png": "[encoded data removed]",
      "text/plain": [
       "<matplotlib.figure.Figure at 0x7f3aaf45f4a8>"
      ]
     },
     "metadata": {},
     "output_type": "display_data"
    }
   ],
   "source": [
    "# Visualising the results\n",
    "plt.figure(figsize=(12,6))\n",
    "plt.plot(real_stock_price, color = 'red', label = 'Real GOOG Stock Price')\n",
    "plt.plot(predicted_stock_price, color = 'blue', label = 'Predicted GOOG Stock Price')\n",
    "plt.title('GOOG Stock Price Prediction')\n",
    "plt.xlabel('Time')\n",
    "plt.ylabel('GOOG Stock Price')\n",
    "plt.legend()\n",
    "plt.show()"
   ]
  },
  {
   "cell_type": "code",
   "execution_count": 13,
   "metadata": {},
   "outputs": [],
   "source": [
    "# Part 4 - Evaluating the RNN\n",
    "\n",
    "import math\n",
    "from sklearn.metrics import mean_squared_error\n",
    "from sklearn.metrics import mean_absolute_error"
   ]
  },
  {
   "cell_type": "code",
   "execution_count": 14,
   "metadata": {},
   "outputs": [
    {
     "name": "stdout",
     "output_type": "stream",
     "text": [
      "Score\n",
      "MAE:  4.7109\n",
      "RMSE: 4.7162  \n"
     ]
    }
   ],
   "source": [
    "#  Evaluating the RNN\n",
    "print (\"Score\")\n",
    "print('MAE:  %.4F' % (mean_absolute_error(real_stock_price, predicted_stock_price)))\n",
    "print('RMSE: %.4f  ' % (math.sqrt(mean_squared_error(real_stock_price, predicted_stock_price))))"
   ]
  },
  {
   "cell_type": "code",
   "execution_count": 15,
   "metadata": {},
   "outputs": [
    {
     "name": "stdout",
     "output_type": "stream",
     "text": [
      "MSE:  22.2426\n"
     ]
    }
   ],
   "source": [
    "print('MSE:  %.4f' % (mean_squared_error(real_stock_price, predicted_stock_price)))"
   ]
  },
  {
   "cell_type": "code",
   "execution_count": 16,
   "metadata": {},
   "outputs": [],
   "source": [
    "# Getting the real stock price of 2013 - 2018\n",
    "real_stock_price_train = pd.read_csv('data/GOOG.csv')\n",
    "real_stock_price_train = real_stock_price_train.iloc[:,5:6].values"
   ]
  },
  {
   "cell_type": "code",
   "execution_count": 17,
   "metadata": {},
   "outputs": [],
   "source": [
    "real_stock_price_train = real_stock_price_train[:2496]"
   ]
  },
  {
   "cell_type": "code",
   "execution_count": 18,
   "metadata": {},
   "outputs": [],
   "source": [
    "# Getting the predicted stock price of 2013 - 2018\n",
    "predicted_stock_price_train = regressor.predict(X_train)\n",
    "predicted_stock_price_train = sc.inverse_transform(predicted_stock_price_train)"
   ]
  },
  {
   "cell_type": "code",
   "execution_count": 19,
   "metadata": {},
   "outputs": [
    {
     "name": "stdout",
     "output_type": "stream",
     "text": [
      "(2496, 1)\n"
     ]
    }
   ],
   "source": [
    "print(predicted_stock_price_train.shape)"
   ]
  },
  {
   "cell_type": "code",
   "execution_count": 21,
   "metadata": {},
   "outputs": [
    {
     "data": {
      "image/png": "[encoded data removed]",
      "text/plain": [
       "<matplotlib.figure.Figure at 0x7f3aaef974e0>"
      ]
     },
     "metadata": {},
     "output_type": "display_data"
    }
   ],
   "source": [
    "# Visualising the results\n",
    "plt.figure(figsize=(12,6))\n",
    "plt.plot(real_stock_price_train, color = 'red', label = 'Real GOOG Stock Price')\n",
    "plt.plot(predicted_stock_price_train, color = 'blue', label = 'Predicted GOOG Stock Price')\n",
    "plt.title('GOOG Stock Price Prediction')\n",
    "plt.xlabel('Time')\n",
    "plt.ylabel('GOOG Stock Price')\n",
    "plt.legend()\n",
    "plt.show()"
   ]
  },
  {
   "cell_type": "code",
   "execution_count": 22,
   "metadata": {},
   "outputs": [
    {
     "name": "stdout",
     "output_type": "stream",
     "text": [
      "Score\n",
      "MAE:  2.5267\n",
      "RMSE: 2.6785  \n"
     ]
    }
   ],
   "source": [
    "#  Evaluating the RNN\n",
    "print (\"Score\")\n",
    "print('MAE:  %.4F' % (mean_absolute_error(real_stock_price_train, predicted_stock_price_train)))\n",
    "print('RMSE: %.4f  ' % (math.sqrt(mean_squared_error(real_stock_price_train, predicted_stock_price_train))))"
   ]
  },
  {
   "cell_type": "code",
   "execution_count": 23,
   "metadata": {},
   "outputs": [
    {
     "name": "stdout",
     "output_type": "stream",
     "text": [
      "MSE:  7.1742\n"
     ]
    }
   ],
   "source": [
    "print('MSE:  %.4f' % (mean_squared_error(real_stock_price_train, predicted_stock_price_train)))"
   ]
  }
 ],
 "metadata": {
  "kernelspec": {
   "display_name": "stock-price-indicator",
   "language": "python",
   "name": "stock-price-indicator"
  },
  "language_info": {
   "codemirror_mode": {
    "name": "ipython",
    "version": 3
   },
   "file_extension": ".py",
   "mimetype": "text/x-python",
   "name": "python",
   "nbconvert_exporter": "python",
   "pygments_lexer": "ipython3",
   "version": "3.6.1"
  }
 },
 "nbformat": 4,
 "nbformat_minor": 2
}
