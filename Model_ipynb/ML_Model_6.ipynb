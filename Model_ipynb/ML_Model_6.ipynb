{
 "cells": [
  {
   "cell_type": "code",
   "execution_count": 1,
   "metadata": {},
   "outputs": [],
   "source": [
    "# Recurrent Neural Network\n",
    "\n",
    "# Part 1 - Data Preprocessing\n",
    "\n",
    "# Importing the libraries\n",
    "import numpy as np\n",
    "import matplotlib.pyplot as plt\n",
    "import pandas as pd\n",
    "\n",
    "# Importing the training set\n",
    "training_set = pd.read_csv('data/SP500/tickers/GOOG.csv')\n",
    "training_set = training_set.iloc[:,5:6].values\n",
    "\n"
   ]
  },
  {
   "cell_type": "code",
   "execution_count": 2,
   "metadata": {},
   "outputs": [
    {
     "data": {
      "text/plain": [
       "(1239, 1)"
      ]
     },
     "execution_count": 2,
     "metadata": {},
     "output_type": "execute_result"
    }
   ],
   "source": [
    "training_set.shape"
   ]
  },
  {
   "cell_type": "code",
   "execution_count": 3,
   "metadata": {},
   "outputs": [],
   "source": [
    "# Feature Scaling\n",
    "from sklearn.preprocessing import MinMaxScaler\n",
    "sc = MinMaxScaler()\n",
    "training_set = sc.fit_transform(training_set)\n",
    "\n",
    "# Getting the inputs and the ouputs\n",
    "X_train = training_set[0:1238]\n",
    "y_train = training_set[1:1239]\n",
    "\n",
    "# Reshaping\n",
    "X_train = np.reshape(X_train, (1238, 1, 1))"
   ]
  },
  {
   "cell_type": "code",
   "execution_count": 4,
   "metadata": {},
   "outputs": [
    {
     "data": {
      "text/plain": [
       "(1238, 1, 1)"
      ]
     },
     "execution_count": 4,
     "metadata": {},
     "output_type": "execute_result"
    }
   ],
   "source": [
    "X_train.shape"
   ]
  },
  {
   "cell_type": "code",
   "execution_count": 5,
   "metadata": {},
   "outputs": [
    {
     "name": "stderr",
     "output_type": "stream",
     "text": [
      "Using TensorFlow backend.\n"
     ]
    }
   ],
   "source": [
    "# Part 2 - Building the RNN\n",
    "\n",
    "# Importing the Keras libraries and packages\n",
    "from keras.models import Sequential\n",
    "from keras.layers import Dense\n",
    "from keras.layers import LSTM\n",
    "from keras.layers import Dropout\n",
    "\n",
    "# Initialising the RNN\n",
    "regressor = Sequential()\n",
    "\n",
    "# Adding the input layer and the LSTM layer\n",
    "regressor.add(LSTM(units = 4, activation = 'sigmoid', input_shape = (None, 1)))\n",
    "\n",
    "# Adding the output layer\n",
    "regressor.add(Dense(units = 1))\n",
    "\n",
    "# Compiling the RNN\n",
    "regressor.compile(optimizer = 'adam', loss = 'mean_squared_error')"
   ]
  },
  {
   "cell_type": "code",
   "execution_count": 6,
   "metadata": {},
   "outputs": [
    {
     "name": "stdout",
     "output_type": "stream",
     "text": [
      "Epoch 1/100\n",
      "1238/1238 [==============================] - 3s - loss: 0.3146     \n",
      "Epoch 2/100\n",
      "1238/1238 [==============================] - 0s - loss: 0.2318     \n",
      "Epoch 3/100\n",
      "1238/1238 [==============================] - 0s - loss: 0.1719     \n",
      "Epoch 4/100\n",
      "1238/1238 [==============================] - 0s - loss: 0.1300     \n",
      "Epoch 5/100\n",
      "1238/1238 [==============================] - 0s - loss: 0.1018     \n",
      "Epoch 6/100\n",
      "1238/1238 [==============================] - 0s - loss: 0.0836     \n",
      "Epoch 7/100\n",
      "1238/1238 [==============================] - 0s - loss: 0.0721     \n",
      "Epoch 8/100\n",
      "1238/1238 [==============================] - 0s - loss: 0.0653     \n",
      "Epoch 9/100\n",
      "1238/1238 [==============================] - 0s - loss: 0.0613     \n",
      "Epoch 10/100\n",
      "1238/1238 [==============================] - 0s - loss: 0.0591     \n",
      "Epoch 11/100\n",
      "1238/1238 [==============================] - 0s - loss: 0.0577     \n",
      "Epoch 12/100\n",
      "1238/1238 [==============================] - 0s - loss: 0.0568     \n",
      "Epoch 13/100\n",
      "1238/1238 [==============================] - 0s - loss: 0.0561     \n",
      "Epoch 14/100\n",
      "1238/1238 [==============================] - 0s - loss: 0.0556     \n",
      "Epoch 15/100\n",
      "1238/1238 [==============================] - 0s - loss: 0.0550     \n",
      "Epoch 16/100\n",
      "1238/1238 [==============================] - 0s - loss: 0.0544     \n",
      "Epoch 17/100\n",
      "1238/1238 [==============================] - 0s - loss: 0.0538     - ETA: 0s - loss: 0.05\n",
      "Epoch 18/100\n",
      "1238/1238 [==============================] - 0s - loss: 0.0532     \n",
      "Epoch 19/100\n",
      "1238/1238 [==============================] - 0s - loss: 0.0526     \n",
      "Epoch 20/100\n",
      "1238/1238 [==============================] - 0s - loss: 0.0520     \n",
      "Epoch 21/100\n",
      "1238/1238 [==============================] - 0s - loss: 0.0513     \n",
      "Epoch 22/100\n",
      "1238/1238 [==============================] - 0s - loss: 0.0506     \n",
      "Epoch 23/100\n",
      "1238/1238 [==============================] - 0s - loss: 0.0499     \n",
      "Epoch 24/100\n",
      "1238/1238 [==============================] - 0s - loss: 0.0492     \n",
      "Epoch 25/100\n",
      "1238/1238 [==============================] - 0s - loss: 0.0484     \n",
      "Epoch 26/100\n",
      "1238/1238 [==============================] - 0s - loss: 0.0476     \n",
      "Epoch 27/100\n",
      "1238/1238 [==============================] - 0s - loss: 0.0468     \n",
      "Epoch 28/100\n",
      "1238/1238 [==============================] - 0s - loss: 0.0460     \n",
      "Epoch 29/100\n",
      "1238/1238 [==============================] - 0s - loss: 0.0452     \n",
      "Epoch 30/100\n",
      "1238/1238 [==============================] - 0s - loss: 0.0443     \n",
      "Epoch 31/100\n",
      "1238/1238 [==============================] - 0s - loss: 0.0434     \n",
      "Epoch 32/100\n",
      "1238/1238 [==============================] - 0s - loss: 0.0425     \n",
      "Epoch 33/100\n",
      "1238/1238 [==============================] - 0s - loss: 0.0416     \n",
      "Epoch 34/100\n",
      "1238/1238 [==============================] - 0s - loss: 0.0406     \n",
      "Epoch 35/100\n",
      "1238/1238 [==============================] - 0s - loss: 0.0396     \n",
      "Epoch 36/100\n",
      "1238/1238 [==============================] - 0s - loss: 0.0386     \n",
      "Epoch 37/100\n",
      "1238/1238 [==============================] - 0s - loss: 0.0375     \n",
      "Epoch 38/100\n",
      "1238/1238 [==============================] - 0s - loss: 0.0365     \n",
      "Epoch 39/100\n",
      "1238/1238 [==============================] - 0s - loss: 0.0354     \n",
      "Epoch 40/100\n",
      "1238/1238 [==============================] - 0s - loss: 0.0343     \n",
      "Epoch 41/100\n",
      "1238/1238 [==============================] - 0s - loss: 0.0332     \n",
      "Epoch 42/100\n",
      "1238/1238 [==============================] - 0s - loss: 0.0320     \n",
      "Epoch 43/100\n",
      "1238/1238 [==============================] - 0s - loss: 0.0309     \n",
      "Epoch 44/100\n",
      "1238/1238 [==============================] - 0s - loss: 0.0297     \n",
      "Epoch 45/100\n",
      "1238/1238 [==============================] - 0s - loss: 0.0285     \n",
      "Epoch 46/100\n",
      "1238/1238 [==============================] - 0s - loss: 0.0272     \n",
      "Epoch 47/100\n",
      "1238/1238 [==============================] - 0s - loss: 0.0260     \n",
      "Epoch 48/100\n",
      "1238/1238 [==============================] - 0s - loss: 0.0248     \n",
      "Epoch 49/100\n",
      "1238/1238 [==============================] - 0s - loss: 0.0236     \n",
      "Epoch 50/100\n",
      "1238/1238 [==============================] - 0s - loss: 0.0223     \n",
      "Epoch 51/100\n",
      "1238/1238 [==============================] - 0s - loss: 0.0211     \n",
      "Epoch 52/100\n",
      "1238/1238 [==============================] - 0s - loss: 0.0199     \n",
      "Epoch 53/100\n",
      "1238/1238 [==============================] - 0s - loss: 0.0187     \n",
      "Epoch 54/100\n",
      "1238/1238 [==============================] - 0s - loss: 0.0175     \n",
      "Epoch 55/100\n",
      "1238/1238 [==============================] - 0s - loss: 0.0163     \n",
      "Epoch 56/100\n",
      "1238/1238 [==============================] - 0s - loss: 0.0152     \n",
      "Epoch 57/100\n",
      "1238/1238 [==============================] - 0s - loss: 0.0141     \n",
      "Epoch 58/100\n",
      "1238/1238 [==============================] - 0s - loss: 0.0130     \n",
      "Epoch 59/100\n",
      "1238/1238 [==============================] - 0s - loss: 0.0120     \n",
      "Epoch 60/100\n",
      "1238/1238 [==============================] - 0s - loss: 0.0110     \n",
      "Epoch 61/100\n",
      "1238/1238 [==============================] - 0s - loss: 0.0100     \n",
      "Epoch 62/100\n",
      "1238/1238 [==============================] - 0s - loss: 0.0091     \n",
      "Epoch 63/100\n",
      "1238/1238 [==============================] - 0s - loss: 0.0083     \n",
      "Epoch 64/100\n",
      "1238/1238 [==============================] - 0s - loss: 0.0075     \n",
      "Epoch 65/100\n",
      "1238/1238 [==============================] - 0s - loss: 0.0067     \n",
      "Epoch 66/100\n",
      "1238/1238 [==============================] - 0s - loss: 0.0060     \n",
      "Epoch 67/100\n",
      "1238/1238 [==============================] - 0s - loss: 0.0053     \n",
      "Epoch 68/100\n",
      "1238/1238 [==============================] - 0s - loss: 0.0047     \n",
      "Epoch 69/100\n",
      "1238/1238 [==============================] - 0s - loss: 0.0042     \n",
      "Epoch 70/100\n",
      "1238/1238 [==============================] - 0s - loss: 0.0037     \n",
      "Epoch 71/100\n",
      "1238/1238 [==============================] - 0s - loss: 0.0032     \n",
      "Epoch 72/100\n",
      "1238/1238 [==============================] - 0s - loss: 0.0028     \n",
      "Epoch 73/100\n",
      "1238/1238 [==============================] - 0s - loss: 0.0024     \n",
      "Epoch 74/100\n",
      "1238/1238 [==============================] - 0s - loss: 0.0021     \n",
      "Epoch 75/100\n",
      "1238/1238 [==============================] - 0s - loss: 0.0018     \n",
      "Epoch 76/100\n",
      "1238/1238 [==============================] - 0s - loss: 0.0015     \n",
      "Epoch 77/100\n",
      "1238/1238 [==============================] - 0s - loss: 0.0013     \n",
      "Epoch 78/100\n",
      "1238/1238 [==============================] - 0s - loss: 0.0011     \n",
      "Epoch 79/100\n",
      "1238/1238 [==============================] - 0s - loss: 9.4860e-04   \n",
      "Epoch 80/100\n",
      "1238/1238 [==============================] - 0s - loss: 8.0854e-04     \n",
      "Epoch 81/100\n",
      "1238/1238 [==============================] - 0s - loss: 6.8862e-04     \n",
      "Epoch 82/100\n",
      "1238/1238 [==============================] - 0s - loss: 5.8892e-04     \n",
      "Epoch 83/100\n",
      "1238/1238 [==============================] - 0s - loss: 5.0696e-04     \n",
      "Epoch 84/100\n",
      "1238/1238 [==============================] - 0s - loss: 4.3830e-04     \n",
      "Epoch 85/100\n",
      "1238/1238 [==============================] - 0s - loss: 3.8269e-04     \n",
      "Epoch 86/100\n",
      "1238/1238 [==============================] - 0s - loss: 3.3745e-04     \n",
      "Epoch 87/100\n",
      "1238/1238 [==============================] - 0s - loss: 3.0070e-04     \n",
      "Epoch 88/100\n",
      "1238/1238 [==============================] - 0s - loss: 2.7189e-04     \n",
      "Epoch 89/100\n",
      "1238/1238 [==============================] - 0s - loss: 2.4845e-04     \n",
      "Epoch 90/100\n",
      "1238/1238 [==============================] - 0s - loss: 2.3013e-04     \n",
      "Epoch 91/100\n",
      "1238/1238 [==============================] - 0s - loss: 2.1523e-04     \n",
      "Epoch 92/100\n",
      "1238/1238 [==============================] - 0s - loss: 2.0412e-04     \n",
      "Epoch 93/100\n",
      "1238/1238 [==============================] - 0s - loss: 1.9573e-04     \n",
      "Epoch 94/100\n",
      "1238/1238 [==============================] - 0s - loss: 1.8898e-04     \n",
      "Epoch 95/100\n",
      "1238/1238 [==============================] - 0s - loss: 1.8373e-04     \n",
      "Epoch 96/100\n",
      "1238/1238 [==============================] - 0s - loss: 1.8007e-04     \n",
      "Epoch 97/100\n",
      "1238/1238 [==============================] - 0s - loss: 1.7714e-04     \n",
      "Epoch 98/100\n",
      "1238/1238 [==============================] - 0s - loss: 1.7484e-04     \n",
      "Epoch 99/100\n",
      "1238/1238 [==============================] - 0s - loss: 1.7342e-04     \n",
      "Epoch 100/100\n"
     ]
    },
    {
     "name": "stdout",
     "output_type": "stream",
     "text": [
      "1238/1238 [==============================] - 0s - loss: 1.7200e-04     \n"
     ]
    },
    {
     "data": {
      "text/plain": [
       "<keras.callbacks.History at 0x7f0dc3be57b8>"
      ]
     },
     "execution_count": 6,
     "metadata": {},
     "output_type": "execute_result"
    }
   ],
   "source": [
    "# Fitting the RNN to the Training set\n",
    "regressor.fit(X_train, y_train, batch_size = 32, epochs = 100)"
   ]
  },
  {
   "cell_type": "code",
   "execution_count": 7,
   "metadata": {},
   "outputs": [
    {
     "data": {
      "text/html": [
       "<div>\n",
       "<style scoped>\n",
       "    .dataframe tbody tr th:only-of-type {\n",
       "        vertical-align: middle;\n",
       "    }\n",
       "\n",
       "    .dataframe tbody tr th {\n",
       "        vertical-align: top;\n",
       "    }\n",
       "\n",
       "    .dataframe thead th {\n",
       "        text-align: right;\n",
       "    }\n",
       "</style>\n",
       "<table border=\"1\" class=\"dataframe\">\n",
       "  <thead>\n",
       "    <tr style=\"text-align: right;\">\n",
       "      <th></th>\n",
       "      <th>Date</th>\n",
       "      <th>Open</th>\n",
       "      <th>High</th>\n",
       "      <th>Low</th>\n",
       "      <th>Close</th>\n",
       "      <th>Adj Close</th>\n",
       "      <th>Volume</th>\n",
       "    </tr>\n",
       "  </thead>\n",
       "  <tbody>\n",
       "    <tr>\n",
       "      <th>0</th>\n",
       "      <td>2018-09-04</td>\n",
       "      <td>1204.270020</td>\n",
       "      <td>1212.989990</td>\n",
       "      <td>1192.500000</td>\n",
       "      <td>1197.000000</td>\n",
       "      <td>1197.000000</td>\n",
       "      <td>1831000</td>\n",
       "    </tr>\n",
       "    <tr>\n",
       "      <th>1</th>\n",
       "      <td>2018-09-05</td>\n",
       "      <td>1193.800049</td>\n",
       "      <td>1199.010010</td>\n",
       "      <td>1162.000000</td>\n",
       "      <td>1186.479980</td>\n",
       "      <td>1186.479980</td>\n",
       "      <td>2061300</td>\n",
       "    </tr>\n",
       "    <tr>\n",
       "      <th>2</th>\n",
       "      <td>2018-09-06</td>\n",
       "      <td>1186.300049</td>\n",
       "      <td>1186.300049</td>\n",
       "      <td>1152.000000</td>\n",
       "      <td>1171.439941</td>\n",
       "      <td>1171.439941</td>\n",
       "      <td>1888500</td>\n",
       "    </tr>\n",
       "    <tr>\n",
       "      <th>3</th>\n",
       "      <td>2018-09-07</td>\n",
       "      <td>1158.670044</td>\n",
       "      <td>1175.260010</td>\n",
       "      <td>1157.214966</td>\n",
       "      <td>1164.829956</td>\n",
       "      <td>1164.829956</td>\n",
       "      <td>1401300</td>\n",
       "    </tr>\n",
       "    <tr>\n",
       "      <th>4</th>\n",
       "      <td>2018-09-10</td>\n",
       "      <td>1172.189941</td>\n",
       "      <td>1174.540039</td>\n",
       "      <td>1160.109985</td>\n",
       "      <td>1164.640015</td>\n",
       "      <td>1164.640015</td>\n",
       "      <td>1115400</td>\n",
       "    </tr>\n",
       "  </tbody>\n",
       "</table>\n",
       "</div>"
      ],
      "text/plain": [
       "         Date         Open         High          Low        Close  \\\n",
       "0  2018-09-04  1204.270020  1212.989990  1192.500000  1197.000000   \n",
       "1  2018-09-05  1193.800049  1199.010010  1162.000000  1186.479980   \n",
       "2  2018-09-06  1186.300049  1186.300049  1152.000000  1171.439941   \n",
       "3  2018-09-07  1158.670044  1175.260010  1157.214966  1164.829956   \n",
       "4  2018-09-10  1172.189941  1174.540039  1160.109985  1164.640015   \n",
       "\n",
       "     Adj Close   Volume  \n",
       "0  1197.000000  1831000  \n",
       "1  1186.479980  2061300  \n",
       "2  1171.439941  1888500  \n",
       "3  1164.829956  1401300  \n",
       "4  1164.640015  1115400  "
      ]
     },
     "execution_count": 7,
     "metadata": {},
     "output_type": "execute_result"
    }
   ],
   "source": [
    "test_set = pd.read_csv('data/SP500/symbols/GOOG_test.csv')\n",
    "test_set.head()"
   ]
  },
  {
   "cell_type": "code",
   "execution_count": 8,
   "metadata": {},
   "outputs": [
    {
     "data": {
      "text/plain": [
       "(19, 7)"
      ]
     },
     "execution_count": 8,
     "metadata": {},
     "output_type": "execute_result"
    }
   ],
   "source": [
    "test_set.shape"
   ]
  },
  {
   "cell_type": "code",
   "execution_count": 9,
   "metadata": {},
   "outputs": [],
   "source": [
    "# Part 3 - Making the predictions and visualising the results\n",
    "\n",
    "# Getting the real stock price of 2018\n",
    "\n",
    "real_stock_price = test_set.iloc[:,5:6].values\n",
    "\n",
    "# Getting the predicted stock price of 2018\n",
    "inputs = real_stock_price\n",
    "inputs = sc.transform(inputs)\n",
    "inputs = np.reshape(inputs, (19, 1, 1))\n",
    "predicted_stock_price = regressor.predict(inputs)\n",
    "predicted_stock_price = sc.inverse_transform(predicted_stock_price)\n",
    "\n"
   ]
  },
  {
   "cell_type": "code",
   "execution_count": 10,
   "metadata": {},
   "outputs": [
    {
     "data": {
      "text/plain": [
       "array([[ 1197.      ],\n",
       "       [ 1186.47998 ],\n",
       "       [ 1171.439941],\n",
       "       [ 1164.829956],\n",
       "       [ 1164.640015],\n",
       "       [ 1177.359985],\n",
       "       [ 1162.819946],\n",
       "       [ 1175.329956],\n",
       "       [ 1172.530029],\n",
       "       [ 1156.050049],\n",
       "       [ 1161.219971],\n",
       "       [ 1171.089966],\n",
       "       [ 1186.869995],\n",
       "       [ 1166.089966],\n",
       "       [ 1173.369995],\n",
       "       [ 1184.650024],\n",
       "       [ 1180.48999 ],\n",
       "       [ 1194.640015],\n",
       "       [ 1193.469971]])"
      ]
     },
     "execution_count": 10,
     "metadata": {},
     "output_type": "execute_result"
    }
   ],
   "source": [
    "real_stock_price"
   ]
  },
  {
   "cell_type": "code",
   "execution_count": 11,
   "metadata": {},
   "outputs": [
    {
     "data": {
      "text/plain": [
       "array([[ 1186.76647949],\n",
       "       [ 1177.56091309],\n",
       "       [ 1164.36462402],\n",
       "       [ 1158.55163574],\n",
       "       [ 1158.38452148],\n",
       "       [ 1169.5637207 ],\n",
       "       [ 1156.78234863],\n",
       "       [ 1167.78161621],\n",
       "       [ 1165.32250977],\n",
       "       [ 1150.81799316],\n",
       "       [ 1155.37365723],\n",
       "       [ 1164.05700684],\n",
       "       [ 1177.90258789],\n",
       "       [ 1159.66027832],\n",
       "       [ 1166.06030273],\n",
       "       [ 1175.95751953],\n",
       "       [ 1172.31018066],\n",
       "       [ 1184.703125  ],\n",
       "       [ 1183.6796875 ]], dtype=float32)"
      ]
     },
     "execution_count": 11,
     "metadata": {},
     "output_type": "execute_result"
    }
   ],
   "source": [
    "predicted_stock_price"
   ]
  },
  {
   "cell_type": "code",
   "execution_count": 12,
   "metadata": {
    "scrolled": true
   },
   "outputs": [
    {
     "data": {
      "image/png": "[encoded data removed]",
      "text/plain": [
       "<matplotlib.figure.Figure at 0x7f0dc3ae33c8>"
      ]
     },
     "metadata": {},
     "output_type": "display_data"
    }
   ],
   "source": [
    "# Visualising the results\n",
    "plt.plot(real_stock_price, color = 'red', label = 'Real GOOG Stock Price')\n",
    "plt.plot(predicted_stock_price, color = 'blue', label = 'Predicted GOOG Stock Price')\n",
    "plt.title('GOOG Stock Price Prediction')\n",
    "plt.xlabel('Time')\n",
    "plt.ylabel('GOOG Stock Price')\n",
    "plt.legend()\n",
    "plt.show()"
   ]
  },
  {
   "cell_type": "code",
   "execution_count": 13,
   "metadata": {},
   "outputs": [],
   "source": [
    "# Part 4 - Evaluating the RNN\n",
    "\n",
    "import math\n",
    "from sklearn.metrics import mean_squared_error\n",
    "from sklearn.metrics import mean_absolute_error"
   ]
  },
  {
   "cell_type": "code",
   "execution_count": 15,
   "metadata": {},
   "outputs": [
    {
     "name": "stdout",
     "output_type": "stream",
     "text": [
      "Score\n",
      "MAE:  7.6194\n",
      "RMSE: 7.7538  \n"
     ]
    }
   ],
   "source": [
    "#  Evaluating the RNN\n",
    "print (\"Score\")\n",
    "print('MAE:  %.4F' % (mean_absolute_error(real_stock_price, predicted_stock_price)))\n",
    "print('RMSE: %.4f  ' % (math.sqrt(mean_squared_error(real_stock_price, predicted_stock_price))))"
   ]
  },
  {
   "cell_type": "code",
   "execution_count": 16,
   "metadata": {},
   "outputs": [
    {
     "name": "stdout",
     "output_type": "stream",
     "text": [
      "MSE:  60.1214\n"
     ]
    }
   ],
   "source": [
    "print('MSE:  %.4f' % (mean_squared_error(real_stock_price, predicted_stock_price)))"
   ]
  },
  {
   "cell_type": "code",
   "execution_count": 17,
   "metadata": {},
   "outputs": [],
   "source": [
    "# Getting the real stock price of 2013 - 2018\n",
    "real_stock_price_train = pd.read_csv('data/SP500/tickers/GOOG.csv')\n",
    "real_stock_price_train = real_stock_price_train.iloc[:,5:6].values"
   ]
  },
  {
   "cell_type": "code",
   "execution_count": 18,
   "metadata": {},
   "outputs": [],
   "source": [
    "real_stock_price_train = real_stock_price_train[:1272]"
   ]
  },
  {
   "cell_type": "code",
   "execution_count": 19,
   "metadata": {},
   "outputs": [],
   "source": [
    "# Getting the predicted stock price of 2013 - 2018\n",
    "predicted_stock_price_train = regressor.predict(X_train)\n",
    "predicted_stock_price_train = sc.inverse_transform(predicted_stock_price_train)"
   ]
  },
  {
   "cell_type": "code",
   "execution_count": 20,
   "metadata": {},
   "outputs": [
    {
     "name": "stdout",
     "output_type": "stream",
     "text": [
      "(1238, 1)\n"
     ]
    }
   ],
   "source": [
    "print(predicted_stock_price_train.shape)"
   ]
  },
  {
   "cell_type": "code",
   "execution_count": 21,
   "metadata": {},
   "outputs": [
    {
     "data": {
      "image/png": "[encoded data removed]",
      "text/plain": [
       "<matplotlib.figure.Figure at 0x7f0dc28f9c50>"
      ]
     },
     "metadata": {},
     "output_type": "display_data"
    }
   ],
   "source": [
    "# Visualising the results\n",
    "plt.plot(real_stock_price_train, color = 'red', label = 'Real GOOG Stock Price')\n",
    "plt.plot(predicted_stock_price_train, color = 'blue', label = 'Predicted GOOG Stock Price')\n",
    "plt.title('GOOG Stock Price Prediction')\n",
    "plt.xlabel('Time')\n",
    "plt.ylabel('GOOG Stock Price')\n",
    "plt.legend()\n",
    "plt.show()"
   ]
  },
  {
   "cell_type": "code",
   "execution_count": 22,
   "metadata": {},
   "outputs": [
    {
     "data": {
      "text/plain": [
       "(1238, 1)"
      ]
     },
     "execution_count": 22,
     "metadata": {},
     "output_type": "execute_result"
    }
   ],
   "source": [
    "real_stock_price_train = real_stock_price_train[:1238]\n",
    "real_stock_price_train.shape"
   ]
  },
  {
   "cell_type": "code",
   "execution_count": 23,
   "metadata": {},
   "outputs": [
    {
     "name": "stdout",
     "output_type": "stream",
     "text": [
      "Score\n",
      "MAE:  1.3937\n",
      "RMSE: 2.6446  \n"
     ]
    }
   ],
   "source": [
    "#  Evaluating the RNN\n",
    "print (\"Score\")\n",
    "print('MAE:  %.4F' % (mean_absolute_error(real_stock_price_train, predicted_stock_price_train)))\n",
    "print('RMSE: %.4f  ' % (math.sqrt(mean_squared_error(real_stock_price_train, predicted_stock_price_train))))"
   ]
  },
  {
   "cell_type": "code",
   "execution_count": 24,
   "metadata": {},
   "outputs": [
    {
     "name": "stdout",
     "output_type": "stream",
     "text": [
      "MSE:  6.9940\n"
     ]
    }
   ],
   "source": [
    "print('MSE:  %.4f' % (mean_squared_error(real_stock_price_train, predicted_stock_price_train)))"
   ]
  },
  {
   "cell_type": "code",
   "execution_count": null,
   "metadata": {},
   "outputs": [],
   "source": []
  }
 ],
 "metadata": {
  "kernelspec": {
   "display_name": "stock-price-indicator",
   "language": "python",
   "name": "stock-price-indicator"
  },
  "language_info": {
   "codemirror_mode": {
    "name": "ipython",
    "version": 3
   },
   "file_extension": ".py",
   "mimetype": "text/x-python",
   "name": "python",
   "nbconvert_exporter": "python",
   "pygments_lexer": "ipython3",
   "version": "3.6.1"
  }
 },
 "nbformat": 4,
 "nbformat_minor": 2
}
