{
 "cells": [
  {
   "cell_type": "code",
   "execution_count": 1,
   "metadata": {},
   "outputs": [],
   "source": [
    "# Recurrent Neural Network\n",
    "\n",
    "# Part 1 - Data Preprocessing\n",
    "\n",
    "# Importing the libraries\n",
    "import numpy as np\n",
    "import matplotlib.pyplot as plt\n",
    "import pandas as pd\n",
    "\n",
    "# Importing the training set\n",
    "training_set = pd.read_csv('data/SP500/tickers/MMM.csv')\n",
    "training_set = training_set.iloc[:,5:6].values\n",
    "\n"
   ]
  },
  {
   "cell_type": "code",
   "execution_count": 2,
   "metadata": {},
   "outputs": [
    {
     "data": {
      "text/plain": [
       "(1239, 1)"
      ]
     },
     "execution_count": 2,
     "metadata": {},
     "output_type": "execute_result"
    }
   ],
   "source": [
    "training_set.shape"
   ]
  },
  {
   "cell_type": "code",
   "execution_count": 3,
   "metadata": {},
   "outputs": [],
   "source": [
    "# Feature Scaling\n",
    "from sklearn.preprocessing import MinMaxScaler\n",
    "sc = MinMaxScaler()\n",
    "training_set = sc.fit_transform(training_set)"
   ]
  },
  {
   "cell_type": "code",
   "execution_count": 4,
   "metadata": {},
   "outputs": [],
   "source": [
    "# Getting the inputs and the ouputs\n",
    "X_train = training_set[0:1238]\n",
    "y_train = training_set[1:1239]\n",
    "\n",
    "# Reshaping\n",
    "X_train = np.reshape(X_train, (1238, 1, 1))"
   ]
  },
  {
   "cell_type": "code",
   "execution_count": 5,
   "metadata": {},
   "outputs": [
    {
     "name": "stdout",
     "output_type": "stream",
     "text": [
      "(1238, 1, 1)\n"
     ]
    }
   ],
   "source": [
    "print(X_train.shape)"
   ]
  },
  {
   "cell_type": "code",
   "execution_count": 6,
   "metadata": {},
   "outputs": [],
   "source": [
    "# Reshaping\n",
    "X_train = np.reshape(X_train, (X_train.shape[0], X_train.shape[1], 1))"
   ]
  },
  {
   "cell_type": "code",
   "execution_count": 7,
   "metadata": {},
   "outputs": [
    {
     "name": "stderr",
     "output_type": "stream",
     "text": [
      "Using TensorFlow backend.\n"
     ]
    },
    {
     "name": "stdout",
     "output_type": "stream",
     "text": [
      "Epoch 1/200\n",
      "1238/1238 [==============================] - 0s - loss: 0.1075     \n",
      "Epoch 2/200\n",
      "1238/1238 [==============================] - 0s - loss: 0.0751     \n",
      "Epoch 3/200\n",
      "1238/1238 [==============================] - 0s - loss: 0.0589     \n",
      "Epoch 4/200\n",
      "1238/1238 [==============================] - 0s - loss: 0.0521     \n",
      "Epoch 5/200\n",
      "1238/1238 [==============================] - 0s - loss: 0.0498     \n",
      "Epoch 6/200\n",
      "1238/1238 [==============================] - 0s - loss: 0.0488     \n",
      "Epoch 7/200\n",
      "1238/1238 [==============================] - 0s - loss: 0.0481     \n",
      "Epoch 8/200\n",
      "1238/1238 [==============================] - 0s - loss: 0.0474     \n",
      "Epoch 9/200\n",
      "1238/1238 [==============================] - 0s - loss: 0.0468     \n",
      "Epoch 10/200\n",
      "1238/1238 [==============================] - 0s - loss: 0.0461     \n",
      "Epoch 11/200\n",
      "1238/1238 [==============================] - 0s - loss: 0.0453     \n",
      "Epoch 12/200\n",
      "1238/1238 [==============================] - 0s - loss: 0.0445     \n",
      "Epoch 13/200\n",
      "1238/1238 [==============================] - 0s - loss: 0.0437     \n",
      "Epoch 14/200\n",
      "1238/1238 [==============================] - 0s - loss: 0.0428     \n",
      "Epoch 15/200\n",
      "1238/1238 [==============================] - 0s - loss: 0.0419     \n",
      "Epoch 16/200\n",
      "1238/1238 [==============================] - 0s - loss: 0.0409     \n",
      "Epoch 17/200\n",
      "1238/1238 [==============================] - 0s - loss: 0.0399     \n",
      "Epoch 18/200\n",
      "1238/1238 [==============================] - 0s - loss: 0.0388     \n",
      "Epoch 19/200\n",
      "1238/1238 [==============================] - 0s - loss: 0.0377     \n",
      "Epoch 20/200\n",
      "1238/1238 [==============================] - 0s - loss: 0.0366     \n",
      "Epoch 21/200\n",
      "1238/1238 [==============================] - 0s - loss: 0.0354     \n",
      "Epoch 22/200\n",
      "1238/1238 [==============================] - 0s - loss: 0.0341     \n",
      "Epoch 23/200\n",
      "1238/1238 [==============================] - 0s - loss: 0.0328     \n",
      "Epoch 24/200\n",
      "1238/1238 [==============================] - 0s - loss: 0.0315     \n",
      "Epoch 25/200\n",
      "1238/1238 [==============================] - 0s - loss: 0.0301     \n",
      "Epoch 26/200\n",
      "1238/1238 [==============================] - 0s - loss: 0.0287     \n",
      "Epoch 27/200\n",
      "1238/1238 [==============================] - 0s - loss: 0.0273     \n",
      "Epoch 28/200\n",
      "1238/1238 [==============================] - 0s - loss: 0.0258     \n",
      "Epoch 29/200\n",
      "1238/1238 [==============================] - 0s - loss: 0.0243     \n",
      "Epoch 30/200\n",
      "1238/1238 [==============================] - 0s - loss: 0.0228     \n",
      "Epoch 31/200\n",
      "1238/1238 [==============================] - 0s - loss: 0.0213     \n",
      "Epoch 32/200\n",
      "1238/1238 [==============================] - 0s - loss: 0.0198     \n",
      "Epoch 33/200\n",
      "1238/1238 [==============================] - 0s - loss: 0.0184     \n",
      "Epoch 34/200\n",
      "1238/1238 [==============================] - 0s - loss: 0.0169     \n",
      "Epoch 35/200\n",
      "1238/1238 [==============================] - 0s - loss: 0.0155     \n",
      "Epoch 36/200\n",
      "1238/1238 [==============================] - 0s - loss: 0.0141     \n",
      "Epoch 37/200\n",
      "1238/1238 [==============================] - 0s - loss: 0.0128     \n",
      "Epoch 38/200\n",
      "1238/1238 [==============================] - 0s - loss: 0.0116     \n",
      "Epoch 39/200\n",
      "1238/1238 [==============================] - 0s - loss: 0.0103     \n",
      "Epoch 40/200\n",
      "1238/1238 [==============================] - 0s - loss: 0.0092     \n",
      "Epoch 41/200\n",
      "1238/1238 [==============================] - 0s - loss: 0.0081     \n",
      "Epoch 42/200\n",
      "1238/1238 [==============================] - 0s - loss: 0.0071     \n",
      "Epoch 43/200\n",
      "1238/1238 [==============================] - 0s - loss: 0.0062     \n",
      "Epoch 44/200\n",
      "1238/1238 [==============================] - 0s - loss: 0.0054     \n",
      "Epoch 45/200\n",
      "1238/1238 [==============================] - 0s - loss: 0.0046     \n",
      "Epoch 46/200\n",
      "1238/1238 [==============================] - 0s - loss: 0.0040     \n",
      "Epoch 47/200\n",
      "1238/1238 [==============================] - 0s - loss: 0.0034     \n",
      "Epoch 48/200\n",
      "1238/1238 [==============================] - 0s - loss: 0.0029     \n",
      "Epoch 49/200\n",
      "1238/1238 [==============================] - 0s - loss: 0.0024     \n",
      "Epoch 50/200\n",
      "1238/1238 [==============================] - 0s - loss: 0.0020     \n",
      "Epoch 51/200\n",
      "1238/1238 [==============================] - 0s - loss: 0.0017     \n",
      "Epoch 52/200\n",
      "1238/1238 [==============================] - 0s - loss: 0.0014     \n",
      "Epoch 53/200\n",
      "1238/1238 [==============================] - 0s - loss: 0.0011     \n",
      "Epoch 54/200\n",
      "1238/1238 [==============================] - 0s - loss: 9.3699e-04     \n",
      "Epoch 55/200\n",
      "1238/1238 [==============================] - 0s - loss: 7.7228e-04     \n",
      "Epoch 56/200\n",
      "1238/1238 [==============================] - 0s - loss: 6.3505e-04     \n",
      "Epoch 57/200\n",
      "1238/1238 [==============================] - 0s - loss: 5.2689e-04     \n",
      "Epoch 58/200\n",
      "1238/1238 [==============================] - 0s - loss: 4.3736e-04     \n",
      "Epoch 59/200\n",
      "1238/1238 [==============================] - 0s - loss: 3.6787e-04     \n",
      "Epoch 60/200\n",
      "1238/1238 [==============================] - 0s - loss: 3.1319e-04     \n",
      "Epoch 61/200\n",
      "1238/1238 [==============================] - 0s - loss: 2.7060e-04     \n",
      "Epoch 62/200\n",
      "1238/1238 [==============================] - 0s - loss: 2.3789e-04     \n",
      "Epoch 63/200\n",
      "1238/1238 [==============================] - 0s - loss: 2.1452e-04     \n",
      "Epoch 64/200\n",
      "1238/1238 [==============================] - 0s - loss: 1.9445e-04     \n",
      "Epoch 65/200\n",
      "1238/1238 [==============================] - 0s - loss: 1.8054e-04     \n",
      "Epoch 66/200\n",
      "1238/1238 [==============================] - 0s - loss: 1.6995e-04     \n",
      "Epoch 67/200\n",
      "1238/1238 [==============================] - 0s - loss: 1.6297e-04     \n",
      "Epoch 68/200\n",
      "1238/1238 [==============================] - 0s - loss: 1.5700e-04     \n",
      "Epoch 69/200\n",
      "1238/1238 [==============================] - 0s - loss: 1.5356e-04     \n",
      "Epoch 70/200\n",
      "1238/1238 [==============================] - 0s - loss: 1.5018e-04     \n",
      "Epoch 71/200\n",
      "1238/1238 [==============================] - 0s - loss: 1.4851e-04     \n",
      "Epoch 72/200\n",
      "1238/1238 [==============================] - 0s - loss: 1.4670e-04     \n",
      "Epoch 73/200\n",
      "1238/1238 [==============================] - 0s - loss: 1.4575e-04     \n",
      "Epoch 74/200\n",
      "1238/1238 [==============================] - 0s - loss: 1.4494e-04     \n",
      "Epoch 75/200\n",
      "1238/1238 [==============================] - 0s - loss: 1.4474e-04     \n",
      "Epoch 76/200\n",
      "1238/1238 [==============================] - 0s - loss: 1.4499e-04     \n",
      "Epoch 77/200\n",
      "1238/1238 [==============================] - 0s - loss: 1.4438e-04     \n",
      "Epoch 78/200\n",
      "1238/1238 [==============================] - 0s - loss: 1.4417e-04     \n",
      "Epoch 79/200\n",
      "1238/1238 [==============================] - 0s - loss: 1.4345e-04     \n",
      "Epoch 80/200\n",
      "1238/1238 [==============================] - 0s - loss: 1.4400e-04     \n",
      "Epoch 81/200\n",
      "1238/1238 [==============================] - 0s - loss: 1.4349e-04     \n",
      "Epoch 82/200\n",
      "1238/1238 [==============================] - 0s - loss: 1.4319e-04     \n",
      "Epoch 83/200\n",
      "1238/1238 [==============================] - 0s - loss: 1.4470e-04     \n",
      "Epoch 84/200\n",
      "1238/1238 [==============================] - 0s - loss: 1.4356e-04     \n",
      "Epoch 85/200\n",
      "1238/1238 [==============================] - 0s - loss: 1.4473e-04     - ETA: 0s - loss: 1.5481e-\n",
      "Epoch 86/200\n",
      "1238/1238 [==============================] - 0s - loss: 1.4329e-04     \n",
      "Epoch 87/200\n",
      "1238/1238 [==============================] - 0s - loss: 1.4453e-04     \n",
      "Epoch 88/200\n",
      "1238/1238 [==============================] - 0s - loss: 1.4321e-04     \n",
      "Epoch 89/200\n",
      "1238/1238 [==============================] - 0s - loss: 1.4370e-04     \n",
      "Epoch 90/200\n",
      "1238/1238 [==============================] - 0s - loss: 1.4332e-04     \n",
      "Epoch 91/200\n",
      "1238/1238 [==============================] - 0s - loss: 1.4341e-04     \n",
      "Epoch 92/200\n",
      "1238/1238 [==============================] - 0s - loss: 1.4399e-04     \n",
      "Epoch 93/200\n",
      "1238/1238 [==============================] - 0s - loss: 1.4343e-04     \n",
      "Epoch 94/200\n",
      "1238/1238 [==============================] - 0s - loss: 1.4331e-04     \n",
      "Epoch 95/200\n",
      "1238/1238 [==============================] - 0s - loss: 1.4368e-04     \n",
      "Epoch 96/200\n",
      "1238/1238 [==============================] - 0s - loss: 1.4339e-04     \n",
      "Epoch 97/200\n",
      "1238/1238 [==============================] - 0s - loss: 1.4367e-04     \n",
      "Epoch 98/200\n",
      "1238/1238 [==============================] - 0s - loss: 1.4386e-04     \n",
      "Epoch 99/200\n"
     ]
    },
    {
     "name": "stdout",
     "output_type": "stream",
     "text": [
      "1238/1238 [==============================] - 0s - loss: 1.4450e-04     \n",
      "Epoch 100/200\n",
      "1238/1238 [==============================] - 0s - loss: 1.4418e-04     \n",
      "Epoch 101/200\n",
      "1238/1238 [==============================] - 0s - loss: 1.4358e-04     \n",
      "Epoch 102/200\n",
      "1238/1238 [==============================] - 0s - loss: 1.4419e-04     \n",
      "Epoch 103/200\n",
      "1238/1238 [==============================] - 0s - loss: 1.4334e-04     \n",
      "Epoch 104/200\n",
      "1238/1238 [==============================] - 0s - loss: 1.4374e-04     \n",
      "Epoch 105/200\n",
      "1238/1238 [==============================] - 0s - loss: 1.4333e-04     \n",
      "Epoch 106/200\n",
      "1238/1238 [==============================] - 0s - loss: 1.4347e-04     \n",
      "Epoch 107/200\n",
      "1238/1238 [==============================] - 0s - loss: 1.4457e-04     \n",
      "Epoch 108/200\n",
      "1238/1238 [==============================] - 0s - loss: 1.4443e-04     \n",
      "Epoch 109/200\n",
      "1238/1238 [==============================] - 0s - loss: 1.4362e-04     \n",
      "Epoch 110/200\n",
      "1238/1238 [==============================] - 0s - loss: 1.4379e-04     \n",
      "Epoch 111/200\n",
      "1238/1238 [==============================] - 0s - loss: 1.4471e-04     \n",
      "Epoch 112/200\n",
      "1238/1238 [==============================] - 0s - loss: 1.4447e-04     \n",
      "Epoch 113/200\n",
      "1238/1238 [==============================] - 0s - loss: 1.4334e-04     \n",
      "Epoch 114/200\n",
      "1238/1238 [==============================] - 0s - loss: 1.4405e-04     \n",
      "Epoch 115/200\n",
      "1238/1238 [==============================] - 0s - loss: 1.4357e-04     \n",
      "Epoch 116/200\n",
      "1238/1238 [==============================] - 0s - loss: 1.4383e-04     \n",
      "Epoch 117/200\n",
      "1238/1238 [==============================] - 0s - loss: 1.4392e-04     \n",
      "Epoch 118/200\n",
      "1238/1238 [==============================] - 0s - loss: 1.4615e-04     \n",
      "Epoch 119/200\n",
      "1238/1238 [==============================] - 0s - loss: 1.4424e-04     \n",
      "Epoch 120/200\n",
      "1238/1238 [==============================] - 0s - loss: 1.4385e-04     \n",
      "Epoch 121/200\n",
      "1238/1238 [==============================] - 0s - loss: 1.4392e-04     \n",
      "Epoch 122/200\n",
      "1238/1238 [==============================] - 0s - loss: 1.4474e-04     \n",
      "Epoch 123/200\n",
      "1238/1238 [==============================] - 0s - loss: 1.4358e-04     \n",
      "Epoch 124/200\n",
      "1238/1238 [==============================] - 0s - loss: 1.4353e-04     \n",
      "Epoch 125/200\n",
      "1238/1238 [==============================] - 0s - loss: 1.4336e-04     \n",
      "Epoch 126/200\n",
      "1238/1238 [==============================] - 0s - loss: 1.4456e-04     \n",
      "Epoch 127/200\n",
      "1238/1238 [==============================] - 0s - loss: 1.4392e-04     \n",
      "Epoch 128/200\n",
      "1238/1238 [==============================] - 0s - loss: 1.4358e-04     \n",
      "Epoch 129/200\n",
      "1238/1238 [==============================] - 0s - loss: 1.4356e-04     \n",
      "Epoch 130/200\n",
      "1238/1238 [==============================] - 0s - loss: 1.4402e-04     \n",
      "Epoch 131/200\n",
      "1238/1238 [==============================] - 0s - loss: 1.4386e-04     \n",
      "Epoch 132/200\n",
      "1238/1238 [==============================] - 0s - loss: 1.4329e-04     \n",
      "Epoch 133/200\n",
      "1238/1238 [==============================] - 0s - loss: 1.4277e-04     \n",
      "Epoch 134/200\n",
      "1238/1238 [==============================] - 0s - loss: 1.4439e-04     \n",
      "Epoch 135/200\n",
      "1238/1238 [==============================] - 0s - loss: 1.4358e-04     \n",
      "Epoch 136/200\n",
      "1238/1238 [==============================] - 0s - loss: 1.4298e-04     \n",
      "Epoch 137/200\n",
      "1238/1238 [==============================] - 0s - loss: 1.4361e-04     \n",
      "Epoch 138/200\n",
      "1238/1238 [==============================] - 0s - loss: 1.4512e-04     \n",
      "Epoch 139/200\n",
      "1238/1238 [==============================] - 0s - loss: 1.4467e-04     \n",
      "Epoch 140/200\n",
      "1238/1238 [==============================] - 0s - loss: 1.4522e-04     \n",
      "Epoch 141/200\n",
      "1238/1238 [==============================] - 0s - loss: 1.4482e-04     \n",
      "Epoch 142/200\n",
      "1238/1238 [==============================] - 0s - loss: 1.4366e-04     \n",
      "Epoch 143/200\n",
      "1238/1238 [==============================] - 0s - loss: 1.4317e-04     \n",
      "Epoch 144/200\n",
      "1238/1238 [==============================] - 0s - loss: 1.4347e-04     \n",
      "Epoch 145/200\n",
      "1238/1238 [==============================] - 0s - loss: 1.4407e-04     \n",
      "Epoch 146/200\n",
      "1238/1238 [==============================] - 0s - loss: 1.4414e-04     \n",
      "Epoch 147/200\n",
      "1238/1238 [==============================] - 0s - loss: 1.4339e-04     \n",
      "Epoch 148/200\n",
      "1238/1238 [==============================] - 0s - loss: 1.4503e-04     \n",
      "Epoch 149/200\n",
      "1238/1238 [==============================] - 0s - loss: 1.4434e-04     \n",
      "Epoch 150/200\n",
      "1238/1238 [==============================] - 0s - loss: 1.4496e-04     \n",
      "Epoch 151/200\n",
      "1238/1238 [==============================] - 0s - loss: 1.4483e-04     \n",
      "Epoch 152/200\n",
      "1238/1238 [==============================] - 0s - loss: 1.4729e-04     \n",
      "Epoch 153/200\n",
      "1238/1238 [==============================] - 0s - loss: 1.4610e-04     \n",
      "Epoch 154/200\n",
      "1238/1238 [==============================] - 0s - loss: 1.4370e-04     \n",
      "Epoch 155/200\n",
      "1238/1238 [==============================] - 0s - loss: 1.4366e-04     \n",
      "Epoch 156/200\n",
      "1238/1238 [==============================] - 0s - loss: 1.4380e-04     \n",
      "Epoch 157/200\n",
      "1238/1238 [==============================] - 0s - loss: 1.4272e-04     \n",
      "Epoch 158/200\n",
      "1238/1238 [==============================] - 0s - loss: 1.4439e-04     \n",
      "Epoch 159/200\n",
      "1238/1238 [==============================] - 0s - loss: 1.4415e-04     \n",
      "Epoch 160/200\n",
      "1238/1238 [==============================] - 0s - loss: 1.4325e-04     \n",
      "Epoch 161/200\n",
      "1238/1238 [==============================] - 0s - loss: 1.4459e-04     \n",
      "Epoch 162/200\n",
      "1238/1238 [==============================] - 0s - loss: 1.4365e-04     \n",
      "Epoch 163/200\n",
      "1238/1238 [==============================] - 0s - loss: 1.4429e-04     \n",
      "Epoch 164/200\n",
      "1238/1238 [==============================] - 0s - loss: 1.4383e-04     \n",
      "Epoch 165/200\n",
      "1238/1238 [==============================] - 0s - loss: 1.4518e-04     \n",
      "Epoch 166/200\n",
      "1238/1238 [==============================] - 0s - loss: 1.4491e-04     \n",
      "Epoch 167/200\n",
      "1238/1238 [==============================] - 0s - loss: 1.4516e-04     \n",
      "Epoch 168/200\n",
      "1238/1238 [==============================] - 0s - loss: 1.4415e-04     \n",
      "Epoch 169/200\n",
      "1238/1238 [==============================] - 0s - loss: 1.4408e-04     \n",
      "Epoch 170/200\n",
      "1238/1238 [==============================] - 0s - loss: 1.4563e-04     \n",
      "Epoch 171/200\n",
      "1238/1238 [==============================] - 0s - loss: 1.4342e-04     \n",
      "Epoch 172/200\n",
      "1238/1238 [==============================] - 0s - loss: 1.4549e-04     \n",
      "Epoch 173/200\n",
      "1238/1238 [==============================] - 0s - loss: 1.4366e-04     \n",
      "Epoch 174/200\n",
      "1238/1238 [==============================] - 0s - loss: 1.4383e-04     \n",
      "Epoch 175/200\n",
      "1238/1238 [==============================] - 0s - loss: 1.4494e-04     \n",
      "Epoch 176/200\n",
      "1238/1238 [==============================] - 0s - loss: 1.4378e-04     \n",
      "Epoch 177/200\n",
      "1238/1238 [==============================] - 0s - loss: 1.4360e-04     \n",
      "Epoch 178/200\n",
      "1238/1238 [==============================] - 0s - loss: 1.4415e-04     \n",
      "Epoch 179/200\n",
      "1238/1238 [==============================] - 0s - loss: 1.4484e-04     \n",
      "Epoch 180/200\n",
      "1238/1238 [==============================] - 0s - loss: 1.4330e-04     \n",
      "Epoch 181/200\n",
      "1238/1238 [==============================] - 0s - loss: 1.4555e-04     \n",
      "Epoch 182/200\n",
      "1238/1238 [==============================] - 0s - loss: 1.4405e-04     - ETA: 0s - loss: 1.2356e-\n",
      "Epoch 183/200\n",
      "1238/1238 [==============================] - 0s - loss: 1.4411e-04     \n",
      "Epoch 184/200\n",
      "1238/1238 [==============================] - 0s - loss: 1.4395e-04     \n",
      "Epoch 185/200\n",
      "1238/1238 [==============================] - 0s - loss: 1.4463e-04     \n",
      "Epoch 186/200\n",
      "1238/1238 [==============================] - 0s - loss: 1.4539e-04     \n",
      "Epoch 187/200\n",
      "1238/1238 [==============================] - 0s - loss: 1.4592e-04     \n",
      "Epoch 188/200\n",
      "1238/1238 [==============================] - 0s - loss: 1.4438e-04     \n",
      "Epoch 189/200\n",
      "1238/1238 [==============================] - 0s - loss: 1.4443e-04     \n",
      "Epoch 190/200\n",
      "1238/1238 [==============================] - 0s - loss: 1.4482e-04     \n",
      "Epoch 191/200\n",
      "1238/1238 [==============================] - 0s - loss: 1.4797e-04     \n",
      "Epoch 192/200\n",
      "1238/1238 [==============================] - 0s - loss: 1.4427e-04     \n",
      "Epoch 193/200\n",
      "1238/1238 [==============================] - 0s - loss: 1.4508e-04     \n",
      "Epoch 194/200\n"
     ]
    },
    {
     "name": "stdout",
     "output_type": "stream",
     "text": [
      "1238/1238 [==============================] - 0s - loss: 1.4437e-04     \n",
      "Epoch 195/200\n",
      "1238/1238 [==============================] - 0s - loss: 1.4601e-04     \n",
      "Epoch 196/200\n",
      "1238/1238 [==============================] - 0s - loss: 1.4485e-04     \n",
      "Epoch 197/200\n",
      "1238/1238 [==============================] - 0s - loss: 1.4477e-04     \n",
      "Epoch 198/200\n",
      "1238/1238 [==============================] - 0s - loss: 1.4426e-04     \n",
      "Epoch 199/200\n",
      "1238/1238 [==============================] - 0s - loss: 1.4329e-04     \n",
      "Epoch 200/200\n",
      "1238/1238 [==============================] - 0s - loss: 1.4353e-04     \n"
     ]
    },
    {
     "data": {
      "text/plain": [
       "<keras.callbacks.History at 0x7f4d989ad128>"
      ]
     },
     "execution_count": 7,
     "metadata": {},
     "output_type": "execute_result"
    }
   ],
   "source": [
    "# Part 2 - Building the RNN\n",
    "\n",
    "# Importing the Keras libraries and packages\n",
    "from keras.models import Sequential\n",
    "from keras.layers import Dense\n",
    "from keras.layers import LSTM\n",
    "\n",
    "# Initialising the RNN\n",
    "regressor = Sequential()\n",
    "\n",
    "# Adding the input layer and the LSTM layer\n",
    "regressor.add(LSTM(units = 4, activation = 'sigmoid', input_shape = (None, 1)))\n",
    "\n",
    "# Adding the output layer\n",
    "regressor.add(Dense(units = 1))\n",
    "\n",
    "# Compiling the RNN\n",
    "regressor.compile(optimizer = 'adam', loss = 'mean_squared_error')\n",
    "\n",
    "# Fitting the RNN to the Training set\n",
    "regressor.fit(X_train, y_train, batch_size = 32, epochs = 200)"
   ]
  },
  {
   "cell_type": "code",
   "execution_count": 8,
   "metadata": {},
   "outputs": [
    {
     "data": {
      "text/html": [
       "<div>\n",
       "<style scoped>\n",
       "    .dataframe tbody tr th:only-of-type {\n",
       "        vertical-align: middle;\n",
       "    }\n",
       "\n",
       "    .dataframe tbody tr th {\n",
       "        vertical-align: top;\n",
       "    }\n",
       "\n",
       "    .dataframe thead th {\n",
       "        text-align: right;\n",
       "    }\n",
       "</style>\n",
       "<table border=\"1\" class=\"dataframe\">\n",
       "  <thead>\n",
       "    <tr style=\"text-align: right;\">\n",
       "      <th></th>\n",
       "      <th>Date</th>\n",
       "      <th>Open</th>\n",
       "      <th>High</th>\n",
       "      <th>Low</th>\n",
       "      <th>Close</th>\n",
       "      <th>Adj Close</th>\n",
       "      <th>Volume</th>\n",
       "    </tr>\n",
       "  </thead>\n",
       "  <tbody>\n",
       "    <tr>\n",
       "      <th>0</th>\n",
       "      <td>2018-09-04</td>\n",
       "      <td>210.550003</td>\n",
       "      <td>210.750000</td>\n",
       "      <td>207.550003</td>\n",
       "      <td>208.600006</td>\n",
       "      <td>208.600006</td>\n",
       "      <td>2108500</td>\n",
       "    </tr>\n",
       "    <tr>\n",
       "      <th>1</th>\n",
       "      <td>2018-09-05</td>\n",
       "      <td>208.289993</td>\n",
       "      <td>211.910004</td>\n",
       "      <td>207.350006</td>\n",
       "      <td>211.830002</td>\n",
       "      <td>211.830002</td>\n",
       "      <td>1951500</td>\n",
       "    </tr>\n",
       "    <tr>\n",
       "      <th>2</th>\n",
       "      <td>2018-09-06</td>\n",
       "      <td>212.000000</td>\n",
       "      <td>213.369995</td>\n",
       "      <td>211.070007</td>\n",
       "      <td>212.740005</td>\n",
       "      <td>212.740005</td>\n",
       "      <td>2363500</td>\n",
       "    </tr>\n",
       "    <tr>\n",
       "      <th>3</th>\n",
       "      <td>2018-09-07</td>\n",
       "      <td>212.240005</td>\n",
       "      <td>212.970001</td>\n",
       "      <td>209.970001</td>\n",
       "      <td>212.570007</td>\n",
       "      <td>212.570007</td>\n",
       "      <td>2739200</td>\n",
       "    </tr>\n",
       "    <tr>\n",
       "      <th>4</th>\n",
       "      <td>2018-09-10</td>\n",
       "      <td>213.679993</td>\n",
       "      <td>216.369995</td>\n",
       "      <td>212.860001</td>\n",
       "      <td>212.929993</td>\n",
       "      <td>212.929993</td>\n",
       "      <td>2399700</td>\n",
       "    </tr>\n",
       "  </tbody>\n",
       "</table>\n",
       "</div>"
      ],
      "text/plain": [
       "         Date        Open        High         Low       Close   Adj Close  \\\n",
       "0  2018-09-04  210.550003  210.750000  207.550003  208.600006  208.600006   \n",
       "1  2018-09-05  208.289993  211.910004  207.350006  211.830002  211.830002   \n",
       "2  2018-09-06  212.000000  213.369995  211.070007  212.740005  212.740005   \n",
       "3  2018-09-07  212.240005  212.970001  209.970001  212.570007  212.570007   \n",
       "4  2018-09-10  213.679993  216.369995  212.860001  212.929993  212.929993   \n",
       "\n",
       "    Volume  \n",
       "0  2108500  \n",
       "1  1951500  \n",
       "2  2363500  \n",
       "3  2739200  \n",
       "4  2399700  "
      ]
     },
     "execution_count": 8,
     "metadata": {},
     "output_type": "execute_result"
    }
   ],
   "source": [
    "test_set = pd.read_csv('data/SP500/symbols/MMM_test.csv')\n",
    "test_set.head()"
   ]
  },
  {
   "cell_type": "code",
   "execution_count": 9,
   "metadata": {},
   "outputs": [
    {
     "data": {
      "text/plain": [
       "(19, 7)"
      ]
     },
     "execution_count": 9,
     "metadata": {},
     "output_type": "execute_result"
    }
   ],
   "source": [
    "test_set.shape"
   ]
  },
  {
   "cell_type": "code",
   "execution_count": 10,
   "metadata": {},
   "outputs": [],
   "source": [
    "# Part 3 - Making the predictions and visualising the results\n",
    "\n",
    "real_stock_price = test_set.iloc[:,5:6].values\n",
    "\n",
    "# Getting the predicted stock price of 2018\n",
    "inputs = real_stock_price\n",
    "inputs = sc.transform(inputs)\n",
    "inputs = np.reshape(inputs, (19, 1, 1))\n",
    "predicted_stock_price = regressor.predict(inputs)\n",
    "predicted_stock_price = sc.inverse_transform(predicted_stock_price)"
   ]
  },
  {
   "cell_type": "code",
   "execution_count": 11,
   "metadata": {},
   "outputs": [
    {
     "data": {
      "text/plain": [
       "array([[ 208.600006],\n",
       "       [ 211.830002],\n",
       "       [ 212.740005],\n",
       "       [ 212.570007],\n",
       "       [ 212.929993],\n",
       "       [ 211.779999],\n",
       "       [ 206.710007],\n",
       "       [ 209.050003],\n",
       "       [ 207.880005],\n",
       "       [ 209.529999],\n",
       "       [ 211.529999],\n",
       "       [ 213.119995],\n",
       "       [ 215.270004],\n",
       "       [ 216.330002],\n",
       "       [ 213.509995],\n",
       "       [ 210.639999],\n",
       "       [ 211.070007],\n",
       "       [ 210.110001],\n",
       "       [ 210.710007]])"
      ]
     },
     "execution_count": 11,
     "metadata": {},
     "output_type": "execute_result"
    }
   ],
   "source": [
    "real_stock_price"
   ]
  },
  {
   "cell_type": "code",
   "execution_count": 12,
   "metadata": {},
   "outputs": [
    {
     "data": {
      "text/plain": [
       "array([[ 208.66732788],\n",
       "       [ 211.91545105],\n",
       "       [ 212.83039856],\n",
       "       [ 212.6594696 ],\n",
       "       [ 213.02140808],\n",
       "       [ 211.8651886 ],\n",
       "       [ 206.76629639],\n",
       "       [ 209.11990356],\n",
       "       [ 207.94316101],\n",
       "       [ 209.60264587],\n",
       "       [ 211.61381531],\n",
       "       [ 213.2124176 ],\n",
       "       [ 215.37362671],\n",
       "       [ 216.43894958],\n",
       "       [ 213.60447693],\n",
       "       [ 210.71888733],\n",
       "       [ 211.15129089],\n",
       "       [ 210.18591309],\n",
       "       [ 210.78927612]], dtype=float32)"
      ]
     },
     "execution_count": 12,
     "metadata": {},
     "output_type": "execute_result"
    }
   ],
   "source": [
    "predicted_stock_price"
   ]
  },
  {
   "cell_type": "code",
   "execution_count": 13,
   "metadata": {},
   "outputs": [
    {
     "data": {
      "image/png": "[encoded data removed]",
      "text/plain": [
       "<matplotlib.figure.Figure at 0x7f4d988aa630>"
      ]
     },
     "metadata": {},
     "output_type": "display_data"
    }
   ],
   "source": [
    "# Visualising the results\n",
    "plt.figure(figsize=(12,6))\n",
    "plt.plot(real_stock_price, color = 'red', label = 'Real 3M Stock Price')\n",
    "plt.plot(predicted_stock_price, color = 'blue', label = 'Predicted 3M Stock Price')\n",
    "plt.title('3M Stock Price Prediction')\n",
    "plt.xlabel('Time')\n",
    "plt.ylabel('3M Stock Price')\n",
    "plt.legend()\n",
    "plt.show()"
   ]
  },
  {
   "cell_type": "code",
   "execution_count": 26,
   "metadata": {},
   "outputs": [
    {
     "name": "stdout",
     "output_type": "stream",
     "text": [
      "(1238, 1, 1)\n"
     ]
    }
   ],
   "source": [
    "print(X_train.shape)"
   ]
  },
  {
   "cell_type": "code",
   "execution_count": 27,
   "metadata": {},
   "outputs": [],
   "source": [
    "# Part 4 - Evaluating the RNN\n",
    "\n",
    "import math\n",
    "from sklearn.metrics import mean_squared_error\n",
    "from sklearn.metrics import mean_absolute_error"
   ]
  },
  {
   "cell_type": "code",
   "execution_count": 28,
   "metadata": {},
   "outputs": [
    {
     "name": "stdout",
     "output_type": "stream",
     "text": [
      "Score\n",
      "MAE:  0.0826\n",
      "RMSE: 0.0836  \n"
     ]
    }
   ],
   "source": [
    "#  Evaluating the RNN\n",
    "print (\"Score\")\n",
    "print('MAE:  %.4F' % (mean_absolute_error(real_stock_price, predicted_stock_price)))\n",
    "print('RMSE: %.4f  ' % (math.sqrt(mean_squared_error(real_stock_price, predicted_stock_price))))"
   ]
  },
  {
   "cell_type": "code",
   "execution_count": 29,
   "metadata": {},
   "outputs": [
    {
     "name": "stdout",
     "output_type": "stream",
     "text": [
      "MSE:  0.0070\n"
     ]
    }
   ],
   "source": [
    "print('MSE:  %.4f' % (mean_squared_error(real_stock_price, predicted_stock_price)))"
   ]
  },
  {
   "cell_type": "code",
   "execution_count": 30,
   "metadata": {},
   "outputs": [
    {
     "data": {
      "image/png": "[encoded data removed]",
      "text/plain": [
       "<matplotlib.figure.Figure at 0x7f4de4e82c18>"
      ]
     },
     "metadata": {},
     "output_type": "display_data"
    }
   ],
   "source": [
    "# Getting the real stock price of 2013 - 2018\n",
    "real_stock_price_train = pd.read_csv('data/SP500/tickers/MMM.csv')\n",
    "real_stock_price_train = real_stock_price_train.iloc[:,5:6].values\n",
    "\n",
    "\n",
    "# Getting the predicted stock price of 2013 - 2018\n",
    "predicted_stock_price_train = regressor.predict(X_train)\n",
    "predicted_stock_price_train = sc.inverse_transform(predicted_stock_price_train)\n",
    "\n",
    "# Visualising the results\n",
    "plt.figure(figsize=(12,6))\n",
    "plt.plot(real_stock_price_train, color = 'red', label = 'Real 3M Stock Price')\n",
    "plt.plot(predicted_stock_price_train, color = 'blue', label = 'Predicted 3M Stock Price')\n",
    "plt.title('3M Stock Price Prediction')\n",
    "plt.xlabel('Time')\n",
    "plt.ylabel('3M Stock Price')\n",
    "plt.legend()\n",
    "plt.show()"
   ]
  },
  {
   "cell_type": "code",
   "execution_count": 31,
   "metadata": {},
   "outputs": [
    {
     "name": "stdout",
     "output_type": "stream",
     "text": [
      "(19, 1)\n",
      "(19, 1)\n"
     ]
    }
   ],
   "source": [
    "print(real_stock_price.shape)\n",
    "print(predicted_stock_price.shape)"
   ]
  },
  {
   "cell_type": "code",
   "execution_count": 32,
   "metadata": {},
   "outputs": [
    {
     "name": "stdout",
     "output_type": "stream",
     "text": [
      "(1239, 1)\n",
      "(1238, 1)\n"
     ]
    }
   ],
   "source": [
    "print(real_stock_price_train.shape)\n",
    "print(predicted_stock_price_train.shape)"
   ]
  },
  {
   "cell_type": "code",
   "execution_count": 33,
   "metadata": {},
   "outputs": [],
   "source": [
    "real_stock_price_train = real_stock_price_train[:1238]"
   ]
  },
  {
   "cell_type": "code",
   "execution_count": 34,
   "metadata": {},
   "outputs": [
    {
     "name": "stdout",
     "output_type": "stream",
     "text": [
      "Score\n",
      "MAE:  0.1439\n",
      "RMSE: 0.2159  \n"
     ]
    }
   ],
   "source": [
    "#  Evaluating the RNN\n",
    "print (\"Score\")\n",
    "print('MAE:  %.4F' % (mean_absolute_error(real_stock_price_train, predicted_stock_price_train)))\n",
    "print('RMSE: %.4f  ' % (math.sqrt(mean_squared_error(real_stock_price_train, predicted_stock_price_train))))"
   ]
  },
  {
   "cell_type": "code",
   "execution_count": 35,
   "metadata": {},
   "outputs": [
    {
     "name": "stdout",
     "output_type": "stream",
     "text": [
      "MSE:  0.0466\n"
     ]
    }
   ],
   "source": [
    "print('MSE:  %.4f' % (mean_squared_error(real_stock_price_train, predicted_stock_price_train)))"
   ]
  }
 ],
 "metadata": {
  "kernelspec": {
   "display_name": "stock-price-indicator",
   "language": "python",
   "name": "stock-price-indicator"
  },
  "language_info": {
   "codemirror_mode": {
    "name": "ipython",
    "version": 3
   },
   "file_extension": ".py",
   "mimetype": "text/x-python",
   "name": "python",
   "nbconvert_exporter": "python",
   "pygments_lexer": "ipython3",
   "version": "3.6.1"
  }
 },
 "nbformat": 4,
 "nbformat_minor": 2
}
